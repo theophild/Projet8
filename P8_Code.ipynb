{
 "cells": [
  {
   "cell_type": "code",
   "execution_count": 58,
   "metadata": {},
   "outputs": [],
   "source": [
    "import pandas as pd\n",
    "from PIL import Image\n",
    "import numpy as np\n",
    "import io\n",
    "import os\n",
    "\n",
    "import tensorflow as tf\n",
    "from tensorflow.keras.applications.mobilenet_v2 import MobileNetV2, preprocess_input\n",
    "from tensorflow.keras.preprocessing.image import img_to_array\n",
    "from tensorflow.keras import Model\n",
    "from pyspark.sql.functions import col, pandas_udf, PandasUDFType, element_at, split\n",
    "from pyspark.sql import SparkSession"
   ]
  },
  {
   "cell_type": "code",
   "execution_count": 59,
   "metadata": {},
   "outputs": [
    {
     "name": "stdout",
     "output_type": "stream",
     "text": [
      "PATH:        /home/dubois/Documents\n",
      "PATH_Data:   /home/dubois/Documents/data/Test1\n",
      "PATH_Result: /home/dubois/Documents/data/Results\n"
     ]
    }
   ],
   "source": [
    "PATH = os.getcwd()\n",
    "PATH_Data = PATH+'/data/Test1'\n",
    "PATH_Result = PATH+'/data/Results'\n",
    "print('PATH:        '+\\\n",
    "      PATH+'\\nPATH_Data:   '+\\\n",
    "      PATH_Data+'\\nPATH_Result: '+PATH_Result)"
   ]
  },
  {
   "cell_type": "code",
   "execution_count": 60,
   "metadata": {},
   "outputs": [],
   "source": [
    "spark = (SparkSession\n",
    "             .builder\n",
    "             .appName('P8')\n",
    "             .master('local')\n",
    "             .config(\"spark.sql.parquet.writeLegacyFormat\", 'true')\n",
    "             .getOrCreate()\n",
    ")"
   ]
  },
  {
   "cell_type": "code",
   "execution_count": 61,
   "metadata": {},
   "outputs": [],
   "source": [
    "sc = spark.sparkContext"
   ]
  },
  {
   "cell_type": "code",
   "execution_count": 62,
   "metadata": {},
   "outputs": [
    {
     "data": {
      "text/html": [
       "\n",
       "            <div>\n",
       "                <p><b>SparkSession - in-memory</b></p>\n",
       "                \n",
       "        <div>\n",
       "            <p><b>SparkContext</b></p>\n",
       "\n",
       "            <p><a href=\"http://192.168.1.30:4040\">Spark UI</a></p>\n",
       "\n",
       "            <dl>\n",
       "              <dt>Version</dt>\n",
       "                <dd><code>v3.3.1</code></dd>\n",
       "              <dt>Master</dt>\n",
       "                <dd><code>local</code></dd>\n",
       "              <dt>AppName</dt>\n",
       "                <dd><code>P8</code></dd>\n",
       "            </dl>\n",
       "        </div>\n",
       "        \n",
       "            </div>\n",
       "        "
      ],
      "text/plain": [
       "<pyspark.sql.session.SparkSession at 0x7fae8cb1f4c0>"
      ]
     },
     "execution_count": 62,
     "metadata": {},
     "output_type": "execute_result"
    }
   ],
   "source": [
    "spark"
   ]
  },
  {
   "cell_type": "code",
   "execution_count": 63,
   "metadata": {},
   "outputs": [
    {
     "name": "stderr",
     "output_type": "stream",
     "text": [
      "                                                                                \r"
     ]
    }
   ],
   "source": [
    "images = spark.read.format(\"binaryFile\") \\\n",
    "  .option(\"pathGlobFilter\", \"*.jpg\") \\\n",
    "  .option(\"recursiveFileLookup\", \"true\") \\\n",
    "  .load(PATH_Data)"
   ]
  },
  {
   "cell_type": "code",
   "execution_count": 64,
   "metadata": {},
   "outputs": [
    {
     "name": "stdout",
     "output_type": "stream",
     "text": [
      "root\n",
      " |-- path: string (nullable = true)\n",
      " |-- modificationTime: timestamp (nullable = true)\n",
      " |-- length: long (nullable = true)\n",
      " |-- content: binary (nullable = true)\n",
      " |-- label: string (nullable = true)\n",
      "\n",
      "None\n",
      "+---------------------------------------------------------------+----------+\n",
      "|path                                                           |label     |\n",
      "+---------------------------------------------------------------+----------+\n",
      "|file:/home/dubois/Documents/data/Test1/Watermelon/r_181_100.jpg|Watermelon|\n",
      "|file:/home/dubois/Documents/data/Test1/Watermelon/r_180_100.jpg|Watermelon|\n",
      "|file:/home/dubois/Documents/data/Test1/Watermelon/r_183_100.jpg|Watermelon|\n",
      "|file:/home/dubois/Documents/data/Test1/Watermelon/129_100.jpg  |Watermelon|\n",
      "|file:/home/dubois/Documents/data/Test1/Watermelon/125_100.jpg  |Watermelon|\n",
      "+---------------------------------------------------------------+----------+\n",
      "only showing top 5 rows\n",
      "\n",
      "None\n"
     ]
    }
   ],
   "source": [
    "images = images.withColumn('label', element_at(split(images['path'], '/'),-2))\n",
    "print(images.printSchema())\n",
    "print(images.select('path','label').show(5,False))"
   ]
  },
  {
   "cell_type": "code",
   "execution_count": 65,
   "metadata": {},
   "outputs": [],
   "source": [
    "model = MobileNetV2(weights='imagenet',\n",
    "                    include_top=True,\n",
    "                    input_shape=(224, 224, 3))"
   ]
  },
  {
   "cell_type": "code",
   "execution_count": 66,
   "metadata": {},
   "outputs": [],
   "source": [
    "new_model = Model(inputs=model.input,\n",
    "                  outputs=model.layers[-2].output)"
   ]
  },
  {
   "cell_type": "code",
   "execution_count": 67,
   "metadata": {},
   "outputs": [
    {
     "name": "stdout",
     "output_type": "stream",
     "text": [
      "Model: \"model_2\"\n",
      "__________________________________________________________________________________________________\n",
      " Layer (type)                   Output Shape         Param #     Connected to                     \n",
      "==================================================================================================\n",
      " input_3 (InputLayer)           [(None, 224, 224, 3  0           []                               \n",
      "                                )]                                                                \n",
      "                                                                                                  \n",
      " Conv1 (Conv2D)                 (None, 112, 112, 32  864         ['input_3[0][0]']                \n",
      "                                )                                                                 \n",
      "                                                                                                  \n",
      " bn_Conv1 (BatchNormalization)  (None, 112, 112, 32  128         ['Conv1[0][0]']                  \n",
      "                                )                                                                 \n",
      "                                                                                                  \n",
      " Conv1_relu (ReLU)              (None, 112, 112, 32  0           ['bn_Conv1[0][0]']               \n",
      "                                )                                                                 \n",
      "                                                                                                  \n",
      " expanded_conv_depthwise (Depth  (None, 112, 112, 32  288        ['Conv1_relu[0][0]']             \n",
      " wiseConv2D)                    )                                                                 \n",
      "                                                                                                  \n",
      " expanded_conv_depthwise_BN (Ba  (None, 112, 112, 32  128        ['expanded_conv_depthwise[0][0]']\n",
      " tchNormalization)              )                                                                 \n",
      "                                                                                                  \n",
      " expanded_conv_depthwise_relu (  (None, 112, 112, 32  0          ['expanded_conv_depthwise_BN[0][0\n",
      " ReLU)                          )                                ]']                              \n",
      "                                                                                                  \n",
      " expanded_conv_project (Conv2D)  (None, 112, 112, 16  512        ['expanded_conv_depthwise_relu[0]\n",
      "                                )                                [0]']                            \n",
      "                                                                                                  \n",
      " expanded_conv_project_BN (Batc  (None, 112, 112, 16  64         ['expanded_conv_project[0][0]']  \n",
      " hNormalization)                )                                                                 \n",
      "                                                                                                  \n",
      " block_1_expand (Conv2D)        (None, 112, 112, 96  1536        ['expanded_conv_project_BN[0][0]'\n",
      "                                )                                ]                                \n",
      "                                                                                                  \n",
      " block_1_expand_BN (BatchNormal  (None, 112, 112, 96  384        ['block_1_expand[0][0]']         \n",
      " ization)                       )                                                                 \n",
      "                                                                                                  \n",
      " block_1_expand_relu (ReLU)     (None, 112, 112, 96  0           ['block_1_expand_BN[0][0]']      \n",
      "                                )                                                                 \n",
      "                                                                                                  \n",
      " block_1_pad (ZeroPadding2D)    (None, 113, 113, 96  0           ['block_1_expand_relu[0][0]']    \n",
      "                                )                                                                 \n",
      "                                                                                                  \n",
      " block_1_depthwise (DepthwiseCo  (None, 56, 56, 96)  864         ['block_1_pad[0][0]']            \n",
      " nv2D)                                                                                            \n",
      "                                                                                                  \n",
      " block_1_depthwise_BN (BatchNor  (None, 56, 56, 96)  384         ['block_1_depthwise[0][0]']      \n",
      " malization)                                                                                      \n",
      "                                                                                                  \n",
      " block_1_depthwise_relu (ReLU)  (None, 56, 56, 96)   0           ['block_1_depthwise_BN[0][0]']   \n",
      "                                                                                                  \n",
      " block_1_project (Conv2D)       (None, 56, 56, 24)   2304        ['block_1_depthwise_relu[0][0]'] \n",
      "                                                                                                  \n",
      " block_1_project_BN (BatchNorma  (None, 56, 56, 24)  96          ['block_1_project[0][0]']        \n",
      " lization)                                                                                        \n",
      "                                                                                                  \n",
      " block_2_expand (Conv2D)        (None, 56, 56, 144)  3456        ['block_1_project_BN[0][0]']     \n",
      "                                                                                                  \n",
      " block_2_expand_BN (BatchNormal  (None, 56, 56, 144)  576        ['block_2_expand[0][0]']         \n",
      " ization)                                                                                         \n",
      "                                                                                                  \n",
      " block_2_expand_relu (ReLU)     (None, 56, 56, 144)  0           ['block_2_expand_BN[0][0]']      \n",
      "                                                                                                  \n",
      " block_2_depthwise (DepthwiseCo  (None, 56, 56, 144)  1296       ['block_2_expand_relu[0][0]']    \n",
      " nv2D)                                                                                            \n",
      "                                                                                                  \n",
      " block_2_depthwise_BN (BatchNor  (None, 56, 56, 144)  576        ['block_2_depthwise[0][0]']      \n",
      " malization)                                                                                      \n",
      "                                                                                                  \n",
      " block_2_depthwise_relu (ReLU)  (None, 56, 56, 144)  0           ['block_2_depthwise_BN[0][0]']   \n",
      "                                                                                                  \n",
      " block_2_project (Conv2D)       (None, 56, 56, 24)   3456        ['block_2_depthwise_relu[0][0]'] \n",
      "                                                                                                  \n",
      " block_2_project_BN (BatchNorma  (None, 56, 56, 24)  96          ['block_2_project[0][0]']        \n",
      " lization)                                                                                        \n",
      "                                                                                                  \n",
      " block_2_add (Add)              (None, 56, 56, 24)   0           ['block_1_project_BN[0][0]',     \n",
      "                                                                  'block_2_project_BN[0][0]']     \n",
      "                                                                                                  \n",
      " block_3_expand (Conv2D)        (None, 56, 56, 144)  3456        ['block_2_add[0][0]']            \n",
      "                                                                                                  \n",
      " block_3_expand_BN (BatchNormal  (None, 56, 56, 144)  576        ['block_3_expand[0][0]']         \n",
      " ization)                                                                                         \n",
      "                                                                                                  \n",
      " block_3_expand_relu (ReLU)     (None, 56, 56, 144)  0           ['block_3_expand_BN[0][0]']      \n",
      "                                                                                                  \n",
      " block_3_pad (ZeroPadding2D)    (None, 57, 57, 144)  0           ['block_3_expand_relu[0][0]']    \n",
      "                                                                                                  \n",
      " block_3_depthwise (DepthwiseCo  (None, 28, 28, 144)  1296       ['block_3_pad[0][0]']            \n",
      " nv2D)                                                                                            \n",
      "                                                                                                  \n",
      " block_3_depthwise_BN (BatchNor  (None, 28, 28, 144)  576        ['block_3_depthwise[0][0]']      \n",
      " malization)                                                                                      \n",
      "                                                                                                  \n",
      " block_3_depthwise_relu (ReLU)  (None, 28, 28, 144)  0           ['block_3_depthwise_BN[0][0]']   \n",
      "                                                                                                  \n",
      " block_3_project (Conv2D)       (None, 28, 28, 32)   4608        ['block_3_depthwise_relu[0][0]'] \n",
      "                                                                                                  \n",
      " block_3_project_BN (BatchNorma  (None, 28, 28, 32)  128         ['block_3_project[0][0]']        \n",
      " lization)                                                                                        \n",
      "                                                                                                  \n",
      " block_4_expand (Conv2D)        (None, 28, 28, 192)  6144        ['block_3_project_BN[0][0]']     \n",
      "                                                                                                  \n",
      " block_4_expand_BN (BatchNormal  (None, 28, 28, 192)  768        ['block_4_expand[0][0]']         \n",
      " ization)                                                                                         \n",
      "                                                                                                  \n",
      " block_4_expand_relu (ReLU)     (None, 28, 28, 192)  0           ['block_4_expand_BN[0][0]']      \n",
      "                                                                                                  \n",
      " block_4_depthwise (DepthwiseCo  (None, 28, 28, 192)  1728       ['block_4_expand_relu[0][0]']    \n",
      " nv2D)                                                                                            \n",
      "                                                                                                  \n",
      " block_4_depthwise_BN (BatchNor  (None, 28, 28, 192)  768        ['block_4_depthwise[0][0]']      \n",
      " malization)                                                                                      \n",
      "                                                                                                  \n",
      " block_4_depthwise_relu (ReLU)  (None, 28, 28, 192)  0           ['block_4_depthwise_BN[0][0]']   \n",
      "                                                                                                  \n",
      " block_4_project (Conv2D)       (None, 28, 28, 32)   6144        ['block_4_depthwise_relu[0][0]'] \n",
      "                                                                                                  \n",
      " block_4_project_BN (BatchNorma  (None, 28, 28, 32)  128         ['block_4_project[0][0]']        \n",
      " lization)                                                                                        \n",
      "                                                                                                  \n",
      " block_4_add (Add)              (None, 28, 28, 32)   0           ['block_3_project_BN[0][0]',     \n",
      "                                                                  'block_4_project_BN[0][0]']     \n",
      "                                                                                                  \n",
      " block_5_expand (Conv2D)        (None, 28, 28, 192)  6144        ['block_4_add[0][0]']            \n",
      "                                                                                                  \n",
      " block_5_expand_BN (BatchNormal  (None, 28, 28, 192)  768        ['block_5_expand[0][0]']         \n",
      " ization)                                                                                         \n",
      "                                                                                                  \n",
      " block_5_expand_relu (ReLU)     (None, 28, 28, 192)  0           ['block_5_expand_BN[0][0]']      \n",
      "                                                                                                  \n",
      " block_5_depthwise (DepthwiseCo  (None, 28, 28, 192)  1728       ['block_5_expand_relu[0][0]']    \n",
      " nv2D)                                                                                            \n",
      "                                                                                                  \n",
      " block_5_depthwise_BN (BatchNor  (None, 28, 28, 192)  768        ['block_5_depthwise[0][0]']      \n",
      " malization)                                                                                      \n",
      "                                                                                                  \n",
      " block_5_depthwise_relu (ReLU)  (None, 28, 28, 192)  0           ['block_5_depthwise_BN[0][0]']   \n",
      "                                                                                                  \n",
      " block_5_project (Conv2D)       (None, 28, 28, 32)   6144        ['block_5_depthwise_relu[0][0]'] \n",
      "                                                                                                  \n",
      " block_5_project_BN (BatchNorma  (None, 28, 28, 32)  128         ['block_5_project[0][0]']        \n",
      " lization)                                                                                        \n",
      "                                                                                                  \n",
      " block_5_add (Add)              (None, 28, 28, 32)   0           ['block_4_add[0][0]',            \n",
      "                                                                  'block_5_project_BN[0][0]']     \n",
      "                                                                                                  \n",
      " block_6_expand (Conv2D)        (None, 28, 28, 192)  6144        ['block_5_add[0][0]']            \n",
      "                                                                                                  \n",
      " block_6_expand_BN (BatchNormal  (None, 28, 28, 192)  768        ['block_6_expand[0][0]']         \n",
      " ization)                                                                                         \n",
      "                                                                                                  \n",
      " block_6_expand_relu (ReLU)     (None, 28, 28, 192)  0           ['block_6_expand_BN[0][0]']      \n",
      "                                                                                                  \n",
      " block_6_pad (ZeroPadding2D)    (None, 29, 29, 192)  0           ['block_6_expand_relu[0][0]']    \n",
      "                                                                                                  \n",
      " block_6_depthwise (DepthwiseCo  (None, 14, 14, 192)  1728       ['block_6_pad[0][0]']            \n",
      " nv2D)                                                                                            \n",
      "                                                                                                  \n",
      " block_6_depthwise_BN (BatchNor  (None, 14, 14, 192)  768        ['block_6_depthwise[0][0]']      \n",
      " malization)                                                                                      \n",
      "                                                                                                  \n",
      " block_6_depthwise_relu (ReLU)  (None, 14, 14, 192)  0           ['block_6_depthwise_BN[0][0]']   \n",
      "                                                                                                  \n",
      " block_6_project (Conv2D)       (None, 14, 14, 64)   12288       ['block_6_depthwise_relu[0][0]'] \n",
      "                                                                                                  \n",
      " block_6_project_BN (BatchNorma  (None, 14, 14, 64)  256         ['block_6_project[0][0]']        \n",
      " lization)                                                                                        \n",
      "                                                                                                  \n",
      " block_7_expand (Conv2D)        (None, 14, 14, 384)  24576       ['block_6_project_BN[0][0]']     \n",
      "                                                                                                  \n",
      " block_7_expand_BN (BatchNormal  (None, 14, 14, 384)  1536       ['block_7_expand[0][0]']         \n",
      " ization)                                                                                         \n",
      "                                                                                                  \n",
      " block_7_expand_relu (ReLU)     (None, 14, 14, 384)  0           ['block_7_expand_BN[0][0]']      \n",
      "                                                                                                  \n",
      " block_7_depthwise (DepthwiseCo  (None, 14, 14, 384)  3456       ['block_7_expand_relu[0][0]']    \n",
      " nv2D)                                                                                            \n",
      "                                                                                                  \n",
      " block_7_depthwise_BN (BatchNor  (None, 14, 14, 384)  1536       ['block_7_depthwise[0][0]']      \n",
      " malization)                                                                                      \n",
      "                                                                                                  \n",
      " block_7_depthwise_relu (ReLU)  (None, 14, 14, 384)  0           ['block_7_depthwise_BN[0][0]']   \n",
      "                                                                                                  \n",
      " block_7_project (Conv2D)       (None, 14, 14, 64)   24576       ['block_7_depthwise_relu[0][0]'] \n",
      "                                                                                                  \n",
      " block_7_project_BN (BatchNorma  (None, 14, 14, 64)  256         ['block_7_project[0][0]']        \n",
      " lization)                                                                                        \n",
      "                                                                                                  \n",
      " block_7_add (Add)              (None, 14, 14, 64)   0           ['block_6_project_BN[0][0]',     \n",
      "                                                                  'block_7_project_BN[0][0]']     \n",
      "                                                                                                  \n",
      " block_8_expand (Conv2D)        (None, 14, 14, 384)  24576       ['block_7_add[0][0]']            \n",
      "                                                                                                  \n",
      " block_8_expand_BN (BatchNormal  (None, 14, 14, 384)  1536       ['block_8_expand[0][0]']         \n",
      " ization)                                                                                         \n",
      "                                                                                                  \n",
      " block_8_expand_relu (ReLU)     (None, 14, 14, 384)  0           ['block_8_expand_BN[0][0]']      \n",
      "                                                                                                  \n",
      " block_8_depthwise (DepthwiseCo  (None, 14, 14, 384)  3456       ['block_8_expand_relu[0][0]']    \n",
      " nv2D)                                                                                            \n",
      "                                                                                                  \n",
      " block_8_depthwise_BN (BatchNor  (None, 14, 14, 384)  1536       ['block_8_depthwise[0][0]']      \n",
      " malization)                                                                                      \n",
      "                                                                                                  \n",
      " block_8_depthwise_relu (ReLU)  (None, 14, 14, 384)  0           ['block_8_depthwise_BN[0][0]']   \n",
      "                                                                                                  \n",
      " block_8_project (Conv2D)       (None, 14, 14, 64)   24576       ['block_8_depthwise_relu[0][0]'] \n",
      "                                                                                                  \n",
      " block_8_project_BN (BatchNorma  (None, 14, 14, 64)  256         ['block_8_project[0][0]']        \n",
      " lization)                                                                                        \n",
      "                                                                                                  \n",
      " block_8_add (Add)              (None, 14, 14, 64)   0           ['block_7_add[0][0]',            \n",
      "                                                                  'block_8_project_BN[0][0]']     \n",
      "                                                                                                  \n",
      " block_9_expand (Conv2D)        (None, 14, 14, 384)  24576       ['block_8_add[0][0]']            \n",
      "                                                                                                  \n",
      " block_9_expand_BN (BatchNormal  (None, 14, 14, 384)  1536       ['block_9_expand[0][0]']         \n",
      " ization)                                                                                         \n",
      "                                                                                                  \n",
      " block_9_expand_relu (ReLU)     (None, 14, 14, 384)  0           ['block_9_expand_BN[0][0]']      \n",
      "                                                                                                  \n",
      " block_9_depthwise (DepthwiseCo  (None, 14, 14, 384)  3456       ['block_9_expand_relu[0][0]']    \n",
      " nv2D)                                                                                            \n",
      "                                                                                                  \n",
      " block_9_depthwise_BN (BatchNor  (None, 14, 14, 384)  1536       ['block_9_depthwise[0][0]']      \n",
      " malization)                                                                                      \n",
      "                                                                                                  \n",
      " block_9_depthwise_relu (ReLU)  (None, 14, 14, 384)  0           ['block_9_depthwise_BN[0][0]']   \n",
      "                                                                                                  \n",
      " block_9_project (Conv2D)       (None, 14, 14, 64)   24576       ['block_9_depthwise_relu[0][0]'] \n",
      "                                                                                                  \n",
      " block_9_project_BN (BatchNorma  (None, 14, 14, 64)  256         ['block_9_project[0][0]']        \n",
      " lization)                                                                                        \n",
      "                                                                                                  \n",
      " block_9_add (Add)              (None, 14, 14, 64)   0           ['block_8_add[0][0]',            \n",
      "                                                                  'block_9_project_BN[0][0]']     \n",
      "                                                                                                  \n",
      " block_10_expand (Conv2D)       (None, 14, 14, 384)  24576       ['block_9_add[0][0]']            \n",
      "                                                                                                  \n",
      " block_10_expand_BN (BatchNorma  (None, 14, 14, 384)  1536       ['block_10_expand[0][0]']        \n",
      " lization)                                                                                        \n",
      "                                                                                                  \n",
      " block_10_expand_relu (ReLU)    (None, 14, 14, 384)  0           ['block_10_expand_BN[0][0]']     \n",
      "                                                                                                  \n",
      " block_10_depthwise (DepthwiseC  (None, 14, 14, 384)  3456       ['block_10_expand_relu[0][0]']   \n",
      " onv2D)                                                                                           \n",
      "                                                                                                  \n",
      " block_10_depthwise_BN (BatchNo  (None, 14, 14, 384)  1536       ['block_10_depthwise[0][0]']     \n",
      " rmalization)                                                                                     \n",
      "                                                                                                  \n",
      " block_10_depthwise_relu (ReLU)  (None, 14, 14, 384)  0          ['block_10_depthwise_BN[0][0]']  \n",
      "                                                                                                  \n",
      " block_10_project (Conv2D)      (None, 14, 14, 96)   36864       ['block_10_depthwise_relu[0][0]']\n",
      "                                                                                                  \n",
      " block_10_project_BN (BatchNorm  (None, 14, 14, 96)  384         ['block_10_project[0][0]']       \n",
      " alization)                                                                                       \n",
      "                                                                                                  \n",
      " block_11_expand (Conv2D)       (None, 14, 14, 576)  55296       ['block_10_project_BN[0][0]']    \n",
      "                                                                                                  \n",
      " block_11_expand_BN (BatchNorma  (None, 14, 14, 576)  2304       ['block_11_expand[0][0]']        \n",
      " lization)                                                                                        \n",
      "                                                                                                  \n",
      " block_11_expand_relu (ReLU)    (None, 14, 14, 576)  0           ['block_11_expand_BN[0][0]']     \n",
      "                                                                                                  \n",
      " block_11_depthwise (DepthwiseC  (None, 14, 14, 576)  5184       ['block_11_expand_relu[0][0]']   \n",
      " onv2D)                                                                                           \n",
      "                                                                                                  \n",
      " block_11_depthwise_BN (BatchNo  (None, 14, 14, 576)  2304       ['block_11_depthwise[0][0]']     \n",
      " rmalization)                                                                                     \n",
      "                                                                                                  \n",
      " block_11_depthwise_relu (ReLU)  (None, 14, 14, 576)  0          ['block_11_depthwise_BN[0][0]']  \n",
      "                                                                                                  \n",
      " block_11_project (Conv2D)      (None, 14, 14, 96)   55296       ['block_11_depthwise_relu[0][0]']\n",
      "                                                                                                  \n",
      " block_11_project_BN (BatchNorm  (None, 14, 14, 96)  384         ['block_11_project[0][0]']       \n",
      " alization)                                                                                       \n",
      "                                                                                                  \n",
      " block_11_add (Add)             (None, 14, 14, 96)   0           ['block_10_project_BN[0][0]',    \n",
      "                                                                  'block_11_project_BN[0][0]']    \n",
      "                                                                                                  \n",
      " block_12_expand (Conv2D)       (None, 14, 14, 576)  55296       ['block_11_add[0][0]']           \n",
      "                                                                                                  \n",
      " block_12_expand_BN (BatchNorma  (None, 14, 14, 576)  2304       ['block_12_expand[0][0]']        \n",
      " lization)                                                                                        \n",
      "                                                                                                  \n",
      " block_12_expand_relu (ReLU)    (None, 14, 14, 576)  0           ['block_12_expand_BN[0][0]']     \n",
      "                                                                                                  \n",
      " block_12_depthwise (DepthwiseC  (None, 14, 14, 576)  5184       ['block_12_expand_relu[0][0]']   \n",
      " onv2D)                                                                                           \n",
      "                                                                                                  \n",
      " block_12_depthwise_BN (BatchNo  (None, 14, 14, 576)  2304       ['block_12_depthwise[0][0]']     \n",
      " rmalization)                                                                                     \n",
      "                                                                                                  \n",
      " block_12_depthwise_relu (ReLU)  (None, 14, 14, 576)  0          ['block_12_depthwise_BN[0][0]']  \n",
      "                                                                                                  \n",
      " block_12_project (Conv2D)      (None, 14, 14, 96)   55296       ['block_12_depthwise_relu[0][0]']\n",
      "                                                                                                  \n",
      " block_12_project_BN (BatchNorm  (None, 14, 14, 96)  384         ['block_12_project[0][0]']       \n",
      " alization)                                                                                       \n",
      "                                                                                                  \n",
      " block_12_add (Add)             (None, 14, 14, 96)   0           ['block_11_add[0][0]',           \n",
      "                                                                  'block_12_project_BN[0][0]']    \n",
      "                                                                                                  \n",
      " block_13_expand (Conv2D)       (None, 14, 14, 576)  55296       ['block_12_add[0][0]']           \n",
      "                                                                                                  \n",
      " block_13_expand_BN (BatchNorma  (None, 14, 14, 576)  2304       ['block_13_expand[0][0]']        \n",
      " lization)                                                                                        \n",
      "                                                                                                  \n",
      " block_13_expand_relu (ReLU)    (None, 14, 14, 576)  0           ['block_13_expand_BN[0][0]']     \n",
      "                                                                                                  \n",
      " block_13_pad (ZeroPadding2D)   (None, 15, 15, 576)  0           ['block_13_expand_relu[0][0]']   \n",
      "                                                                                                  \n",
      " block_13_depthwise (DepthwiseC  (None, 7, 7, 576)   5184        ['block_13_pad[0][0]']           \n",
      " onv2D)                                                                                           \n",
      "                                                                                                  \n",
      " block_13_depthwise_BN (BatchNo  (None, 7, 7, 576)   2304        ['block_13_depthwise[0][0]']     \n",
      " rmalization)                                                                                     \n",
      "                                                                                                  \n",
      " block_13_depthwise_relu (ReLU)  (None, 7, 7, 576)   0           ['block_13_depthwise_BN[0][0]']  \n",
      "                                                                                                  \n",
      " block_13_project (Conv2D)      (None, 7, 7, 160)    92160       ['block_13_depthwise_relu[0][0]']\n",
      "                                                                                                  \n",
      " block_13_project_BN (BatchNorm  (None, 7, 7, 160)   640         ['block_13_project[0][0]']       \n",
      " alization)                                                                                       \n",
      "                                                                                                  \n",
      " block_14_expand (Conv2D)       (None, 7, 7, 960)    153600      ['block_13_project_BN[0][0]']    \n",
      "                                                                                                  \n",
      " block_14_expand_BN (BatchNorma  (None, 7, 7, 960)   3840        ['block_14_expand[0][0]']        \n",
      " lization)                                                                                        \n",
      "                                                                                                  \n",
      " block_14_expand_relu (ReLU)    (None, 7, 7, 960)    0           ['block_14_expand_BN[0][0]']     \n",
      "                                                                                                  \n",
      " block_14_depthwise (DepthwiseC  (None, 7, 7, 960)   8640        ['block_14_expand_relu[0][0]']   \n",
      " onv2D)                                                                                           \n",
      "                                                                                                  \n",
      " block_14_depthwise_BN (BatchNo  (None, 7, 7, 960)   3840        ['block_14_depthwise[0][0]']     \n",
      " rmalization)                                                                                     \n",
      "                                                                                                  \n",
      " block_14_depthwise_relu (ReLU)  (None, 7, 7, 960)   0           ['block_14_depthwise_BN[0][0]']  \n",
      "                                                                                                  \n",
      " block_14_project (Conv2D)      (None, 7, 7, 160)    153600      ['block_14_depthwise_relu[0][0]']\n",
      "                                                                                                  \n",
      " block_14_project_BN (BatchNorm  (None, 7, 7, 160)   640         ['block_14_project[0][0]']       \n",
      " alization)                                                                                       \n",
      "                                                                                                  \n",
      " block_14_add (Add)             (None, 7, 7, 160)    0           ['block_13_project_BN[0][0]',    \n",
      "                                                                  'block_14_project_BN[0][0]']    \n",
      "                                                                                                  \n",
      " block_15_expand (Conv2D)       (None, 7, 7, 960)    153600      ['block_14_add[0][0]']           \n",
      "                                                                                                  \n",
      " block_15_expand_BN (BatchNorma  (None, 7, 7, 960)   3840        ['block_15_expand[0][0]']        \n",
      " lization)                                                                                        \n",
      "                                                                                                  \n",
      " block_15_expand_relu (ReLU)    (None, 7, 7, 960)    0           ['block_15_expand_BN[0][0]']     \n",
      "                                                                                                  \n",
      " block_15_depthwise (DepthwiseC  (None, 7, 7, 960)   8640        ['block_15_expand_relu[0][0]']   \n",
      " onv2D)                                                                                           \n",
      "                                                                                                  \n",
      " block_15_depthwise_BN (BatchNo  (None, 7, 7, 960)   3840        ['block_15_depthwise[0][0]']     \n",
      " rmalization)                                                                                     \n",
      "                                                                                                  \n",
      " block_15_depthwise_relu (ReLU)  (None, 7, 7, 960)   0           ['block_15_depthwise_BN[0][0]']  \n",
      "                                                                                                  \n",
      " block_15_project (Conv2D)      (None, 7, 7, 160)    153600      ['block_15_depthwise_relu[0][0]']\n",
      "                                                                                                  \n",
      " block_15_project_BN (BatchNorm  (None, 7, 7, 160)   640         ['block_15_project[0][0]']       \n",
      " alization)                                                                                       \n",
      "                                                                                                  \n",
      " block_15_add (Add)             (None, 7, 7, 160)    0           ['block_14_add[0][0]',           \n",
      "                                                                  'block_15_project_BN[0][0]']    \n",
      "                                                                                                  \n",
      " block_16_expand (Conv2D)       (None, 7, 7, 960)    153600      ['block_15_add[0][0]']           \n",
      "                                                                                                  \n",
      " block_16_expand_BN (BatchNorma  (None, 7, 7, 960)   3840        ['block_16_expand[0][0]']        \n",
      " lization)                                                                                        \n",
      "                                                                                                  \n",
      " block_16_expand_relu (ReLU)    (None, 7, 7, 960)    0           ['block_16_expand_BN[0][0]']     \n",
      "                                                                                                  \n",
      " block_16_depthwise (DepthwiseC  (None, 7, 7, 960)   8640        ['block_16_expand_relu[0][0]']   \n",
      " onv2D)                                                                                           \n",
      "                                                                                                  \n",
      " block_16_depthwise_BN (BatchNo  (None, 7, 7, 960)   3840        ['block_16_depthwise[0][0]']     \n",
      " rmalization)                                                                                     \n",
      "                                                                                                  \n",
      " block_16_depthwise_relu (ReLU)  (None, 7, 7, 960)   0           ['block_16_depthwise_BN[0][0]']  \n",
      "                                                                                                  \n",
      " block_16_project (Conv2D)      (None, 7, 7, 320)    307200      ['block_16_depthwise_relu[0][0]']\n",
      "                                                                                                  \n",
      " block_16_project_BN (BatchNorm  (None, 7, 7, 320)   1280        ['block_16_project[0][0]']       \n",
      " alization)                                                                                       \n",
      "                                                                                                  \n",
      " Conv_1 (Conv2D)                (None, 7, 7, 1280)   409600      ['block_16_project_BN[0][0]']    \n",
      "                                                                                                  \n",
      " Conv_1_bn (BatchNormalization)  (None, 7, 7, 1280)  5120        ['Conv_1[0][0]']                 \n",
      "                                                                                                  \n",
      " out_relu (ReLU)                (None, 7, 7, 1280)   0           ['Conv_1_bn[0][0]']              \n",
      "                                                                                                  \n",
      " global_average_pooling2d_2 (Gl  (None, 1280)        0           ['out_relu[0][0]']               \n",
      " obalAveragePooling2D)                                                                            \n",
      "                                                                                                  \n",
      "==================================================================================================\n",
      "Total params: 2,257,984\n",
      "Trainable params: 2,223,872\n",
      "Non-trainable params: 34,112\n",
      "__________________________________________________________________________________________________\n"
     ]
    }
   ],
   "source": [
    "new_model.summary()"
   ]
  },
  {
   "cell_type": "code",
   "execution_count": 68,
   "metadata": {},
   "outputs": [],
   "source": [
    "brodcast_weights = sc.broadcast(new_model.get_weights())"
   ]
  },
  {
   "cell_type": "code",
   "execution_count": 69,
   "metadata": {},
   "outputs": [],
   "source": [
    "def model_fn():\n",
    "    \"\"\"\n",
    "    Returns a MobileNetV2 model with top layer removed \n",
    "    and broadcasted pretrained weights.\n",
    "    \"\"\"\n",
    "    model = MobileNetV2(weights='imagenet',\n",
    "                        include_top=True,\n",
    "                        input_shape=(224, 224, 3))\n",
    "    for layer in model.layers:\n",
    "        layer.trainable = False\n",
    "    new_model = Model(inputs=model.input,\n",
    "                  outputs=model.layers[-2].output)\n",
    "    new_model.set_weights(brodcast_weights.value)\n",
    "    return new_model"
   ]
  },
  {
   "cell_type": "code",
   "execution_count": 70,
   "id": "dc4e5f69",
   "metadata": {},
   "outputs": [
    {
     "name": "stderr",
     "output_type": "stream",
     "text": [
      "/home/dubois/.local/lib/python3.10/site-packages/pyspark/sql/pandas/functions.py:394: UserWarning: In Python 3.6+ and Spark 3.0+, it is preferred to specify type hints for pandas UDF instead of specifying pandas UDF type which will be deprecated in the future releases. See SPARK-28264 for more details.\n",
      "  warnings.warn(\n"
     ]
    }
   ],
   "source": [
    "def preprocess(content):\n",
    "    \"\"\"\n",
    "    Preprocesses raw image bytes for prediction.\n",
    "    \"\"\"\n",
    "    img = Image.open(io.BytesIO(content)).resize([224, 224])\n",
    "    arr = img_to_array(img)\n",
    "    return preprocess_input(arr)\n",
    "\n",
    "def featurize_series(model, content_series):\n",
    "    \"\"\"\n",
    "    Featurize a pd.Series of raw images using the input model.\n",
    "    :return: a pd.Series of image features\n",
    "    \"\"\"\n",
    "    input = np.stack(content_series.map(preprocess))\n",
    "    preds = model.predict(input)\n",
    "    # For some layers, output features will be multi-dimensional tensors.\n",
    "    # We flatten the feature tensors to vectors for easier storage in Spark DataFrames.\n",
    "    output = [p.flatten() for p in preds]\n",
    "    return pd.Series(output)\n",
    "\n",
    "@pandas_udf('array<float>', PandasUDFType.SCALAR_ITER)\n",
    "def featurize_udf(content_series_iter):\n",
    "    '''\n",
    "    This method is a Scalar Iterator pandas UDF wrapping our featurization function.\n",
    "    The decorator specifies that this returns a Spark DataFrame column of type ArrayType(FloatType).\n",
    "\n",
    "    :param content_series_iter: This argument is an iterator over batches of data, where each batch\n",
    "                              is a pandas Series of image data.\n",
    "    '''\n",
    "    # With Scalar Iterator pandas UDFs, we can load the model once and then re-use it\n",
    "    # for multiple data batches.  This amortizes the overhead of loading big models.\n",
    "    model = model_fn()\n",
    "    for content_series in content_series_iter:\n",
    "        yield featurize_series(model, content_series)"
   ]
  },
  {
   "cell_type": "code",
   "execution_count": 71,
   "metadata": {},
   "outputs": [],
   "source": [
    "# spark.conf.set(\"spark.sql.execution.arrow.maxRecordsPerBatch\", \"1024\")"
   ]
  },
  {
   "cell_type": "code",
   "execution_count": 72,
   "metadata": {},
   "outputs": [],
   "source": [
    "features_df = images.repartition(20).select(col(\"path\"),\n",
    "                                            col(\"label\"),\n",
    "                                            featurize_udf(\"content\").alias(\"features\")\n",
    "                                           )"
   ]
  },
  {
   "cell_type": "code",
   "execution_count": 73,
   "metadata": {},
   "outputs": [
    {
     "name": "stdout",
     "output_type": "stream",
     "text": [
      "/home/dubois/Documents/data/Results\n"
     ]
    }
   ],
   "source": [
    "print(PATH_Result)"
   ]
  },
  {
   "cell_type": "code",
   "execution_count": 74,
   "metadata": {},
   "outputs": [
    {
     "name": "stderr",
     "output_type": "stream",
     "text": [
      "2023-03-10 16:51:10.689673: I tensorflow/core/platform/cpu_feature_guard.cc:193] This TensorFlow binary is optimized with oneAPI Deep Neural Network Library (oneDNN) to use the following CPU instructions in performance-critical operations:  AVX2\n",
      "To enable them in other operations, rebuild TensorFlow with the appropriate compiler flags.\n",
      "2023-03-10 16:51:11.135324: W tensorflow/compiler/xla/stream_executor/platform/default/dso_loader.cc:64] Could not load dynamic library 'libcudart.so.11.0'; dlerror: libcudart.so.11.0: cannot open shared object file: No such file or directory\n",
      "2023-03-10 16:51:11.137838: I tensorflow/compiler/xla/stream_executor/cuda/cudart_stub.cc:29] Ignore above cudart dlerror if you do not have a GPU set up on your machine.\n",
      "2023-03-10 16:51:13.785092: W tensorflow/compiler/xla/stream_executor/platform/default/dso_loader.cc:64] Could not load dynamic library 'libnvinfer.so.7'; dlerror: libnvinfer.so.7: cannot open shared object file: No such file or directory\n",
      "2023-03-10 16:51:13.785483: W tensorflow/compiler/xla/stream_executor/platform/default/dso_loader.cc:64] Could not load dynamic library 'libnvinfer_plugin.so.7'; dlerror: libnvinfer_plugin.so.7: cannot open shared object file: No such file or directory\n",
      "2023-03-10 16:51:13.785523: W tensorflow/compiler/tf2tensorrt/utils/py_utils.cc:38] TF-TRT Warning: Cannot dlopen some TensorRT libraries. If you would like to use Nvidia GPU with TensorRT, please make sure the missing libraries mentioned above are installed properly.\n",
      "2023-03-10 16:51:16.803830: W tensorflow/compiler/xla/stream_executor/platform/default/dso_loader.cc:64] Could not load dynamic library 'libcuda.so.1'; dlerror: libcuda.so.1: cannot open shared object file: No such file or directory\n",
      "2023-03-10 16:51:16.805939: W tensorflow/compiler/xla/stream_executor/cuda/cuda_driver.cc:265] failed call to cuInit: UNKNOWN ERROR (303)\n",
      "2023-03-10 16:51:16.806001: I tensorflow/compiler/xla/stream_executor/cuda/cuda_diagnostics.cc:156] kernel driver does not appear to be running on this host (dubois-VirtualBox): /proc/driver/nvidia/version does not exist\n",
      "2023-03-10 16:51:16.806250: I tensorflow/core/platform/cpu_feature_guard.cc:193] This TensorFlow binary is optimized with oneAPI Deep Neural Network Library (oneDNN) to use the following CPU instructions in performance-critical operations:  AVX2\n",
      "To enable them in other operations, rebuild TensorFlow with the appropriate compiler flags.\n",
      "2023-03-10 16:51:23.889980: W tensorflow/tsl/framework/cpu_allocator_impl.cc:82] Allocation of 101154816 exceeds 10% of free system memory.\n",
      "2023-03-10 16:51:24.019909: W tensorflow/tsl/framework/cpu_allocator_impl.cc:82] Allocation of 102969216 exceeds 10% of free system memory.\n",
      "1/1 [==============================] - 4s 4s/step\n",
      "2023-03-10 16:51:32.194672: W tensorflow/tsl/framework/cpu_allocator_impl.cc:82] Allocation of 86704128 exceeds 10% of free system memory.\n",
      "2023-03-10 16:51:32.244877: W tensorflow/tsl/framework/cpu_allocator_impl.cc:82] Allocation of 88259328 exceeds 10% of free system memory.\n",
      "1/1 [==============================] - 2s 2s/step\n",
      "2023-03-10 16:51:38.090970: W tensorflow/tsl/framework/cpu_allocator_impl.cc:82] Allocation of 81887232 exceeds 10% of free system memory.\n",
      "1/1 [==============================] - 2s 2s/step\n",
      "1/1 [==============================] - 2s 2s/step                  (3 + 1) / 20]\n",
      "1/1 [==============================] - ETA: 0sWARNING:tensorflow:5 out of the last 5 calls to <function Model.make_predict_function.<locals>.predict_function at 0x7f0076f36a70> triggered tf.function retracing. Tracing is expensive and the excessive number of tracings could be due to (1) creating @tf.function repeatedly in a loop, (2) passing tensors with different shapes, (3) passing Python objects instead of tensors. For (1), please define your @tf.function outside of the loop. For (2), @tf.function has reduce_retracing=True option that can avoid unnecessary retracing. For (3), please refer to https://www.tensorflow.org/guide/function#controlling_retracing and https://www.tensorflow.org/api_docs/python/tf/function for  more details.\n",
      "1/1 [==============================] - 2s 2s/step\n",
      "WARNING:tensorflow:6 out of the last 6 calls to <function Model.make_predict_function.<locals>.predict_function at 0x7f0077146f80> triggered tf.function retracing. Tracing is expensive and the excessive number of tracings could be due to (1) creating @tf.function repeatedly in a loop, (2) passing tensors with different shapes, (3) passing Python objects instead of tensors. For (1), please define your @tf.function outside of the loop. For (2), @tf.function has reduce_retracing=True option that can avoid unnecessary retracing. For (3), please refer to https://www.tensorflow.org/guide/function#controlling_retracing and https://www.tensorflow.org/api_docs/python/tf/function for  more details.\n",
      "1/1 [==============================] - 1s 1s/step\n",
      "1/1 [==============================] - 1s 1s/step                  (6 + 1) / 20]\n",
      "1/1 [==============================] - 1s 1s/step                  (7 + 1) / 20]\n",
      "1/1 [==============================] - 1s 1s/step                  (8 + 1) / 20]\n",
      "1/1 [==============================] - 1s 1s/step                  (9 + 1) / 20]\n",
      "1/1 [==============================] - 1s 1s/step                 (10 + 1) / 20]\n",
      "1/1 [==============================] - 1s 1s/step                 (11 + 1) / 20]\n",
      "1/1 [==============================] - 2s 2s/step                 (12 + 1) / 20]\n",
      "1/1 [==============================] - 2s 2s/step                 (13 + 1) / 20]\n",
      "1/1 [==============================] - 1s 1s/step>                (14 + 1) / 20]\n",
      "1/1 [==============================] - 1s 1s/step===>             (15 + 1) / 20]\n",
      "1/1 [==============================] - 1s 1s/step=====>           (16 + 1) / 20]\n",
      "1/1 [==============================] - 1s 1s/step========>        (17 + 1) / 20]\n",
      "1/1 [==============================] - 1s 1s/step===========>     (18 + 1) / 20]\n",
      "1/1 [==============================] - 1s 1s/step==============>  (19 + 1) / 20]\n",
      "                                                                                \r"
     ]
    }
   ],
   "source": [
    "features_df.write.mode(\"overwrite\").parquet(PATH_Result)"
   ]
  },
  {
   "cell_type": "code",
   "execution_count": 75,
   "metadata": {},
   "outputs": [],
   "source": [
    "df = pd.read_parquet(PATH_Result, engine='pyarrow')"
   ]
  },
  {
   "cell_type": "code",
   "execution_count": 76,
   "metadata": {},
   "outputs": [
    {
     "data": {
      "text/html": [
       "<div>\n",
       "<style scoped>\n",
       "    .dataframe tbody tr th:only-of-type {\n",
       "        vertical-align: middle;\n",
       "    }\n",
       "\n",
       "    .dataframe tbody tr th {\n",
       "        vertical-align: top;\n",
       "    }\n",
       "\n",
       "    .dataframe thead th {\n",
       "        text-align: right;\n",
       "    }\n",
       "</style>\n",
       "<table border=\"1\" class=\"dataframe\">\n",
       "  <thead>\n",
       "    <tr style=\"text-align: right;\">\n",
       "      <th></th>\n",
       "      <th>path</th>\n",
       "      <th>label</th>\n",
       "      <th>features</th>\n",
       "    </tr>\n",
       "  </thead>\n",
       "  <tbody>\n",
       "    <tr>\n",
       "      <th>0</th>\n",
       "      <td>file:/home/dubois/Documents/data/Test1/Waterme...</td>\n",
       "      <td>Watermelon</td>\n",
       "      <td>[0.0, 0.22006682, 0.43298578, 0.0040440755, 1....</td>\n",
       "    </tr>\n",
       "    <tr>\n",
       "      <th>1</th>\n",
       "      <td>file:/home/dubois/Documents/data/Test1/Cantalo...</td>\n",
       "      <td>Cantaloupe 2</td>\n",
       "      <td>[0.0, 0.028211135, 0.012261896, 0.0, 0.0108564...</td>\n",
       "    </tr>\n",
       "    <tr>\n",
       "      <th>2</th>\n",
       "      <td>file:/home/dubois/Documents/data/Test1/Peach/r...</td>\n",
       "      <td>Peach</td>\n",
       "      <td>[0.010336652, 0.0, 0.0, 0.0, 0.0, 0.33239403, ...</td>\n",
       "    </tr>\n",
       "    <tr>\n",
       "      <th>3</th>\n",
       "      <td>file:/home/dubois/Documents/data/Test1/Clement...</td>\n",
       "      <td>Clementine</td>\n",
       "      <td>[0.57104963, 0.0061015887, 0.0, 0.0, 0.0112015...</td>\n",
       "    </tr>\n",
       "    <tr>\n",
       "      <th>4</th>\n",
       "      <td>file:/home/dubois/Documents/data/Test1/Peach/7...</td>\n",
       "      <td>Peach</td>\n",
       "      <td>[1.2615167, 0.0, 0.0, 0.0, 0.0447703, 0.0, 0.7...</td>\n",
       "    </tr>\n",
       "  </tbody>\n",
       "</table>\n",
       "</div>"
      ],
      "text/plain": [
       "                                                path         label  \\\n",
       "0  file:/home/dubois/Documents/data/Test1/Waterme...    Watermelon   \n",
       "1  file:/home/dubois/Documents/data/Test1/Cantalo...  Cantaloupe 2   \n",
       "2  file:/home/dubois/Documents/data/Test1/Peach/r...         Peach   \n",
       "3  file:/home/dubois/Documents/data/Test1/Clement...    Clementine   \n",
       "4  file:/home/dubois/Documents/data/Test1/Peach/7...         Peach   \n",
       "\n",
       "                                            features  \n",
       "0  [0.0, 0.22006682, 0.43298578, 0.0040440755, 1....  \n",
       "1  [0.0, 0.028211135, 0.012261896, 0.0, 0.0108564...  \n",
       "2  [0.010336652, 0.0, 0.0, 0.0, 0.0, 0.33239403, ...  \n",
       "3  [0.57104963, 0.0061015887, 0.0, 0.0, 0.0112015...  \n",
       "4  [1.2615167, 0.0, 0.0, 0.0, 0.0447703, 0.0, 0.7...  "
      ]
     },
     "execution_count": 76,
     "metadata": {},
     "output_type": "execute_result"
    }
   ],
   "source": [
    "df.head()"
   ]
  },
  {
   "cell_type": "code",
   "execution_count": 77,
   "metadata": {},
   "outputs": [
    {
     "data": {
      "text/plain": [
       "(1280,)"
      ]
     },
     "execution_count": 77,
     "metadata": {},
     "output_type": "execute_result"
    }
   ],
   "source": [
    "df.loc[0,'features'].shape"
   ]
  },
  {
   "cell_type": "markdown",
   "metadata": {},
   "source": []
  },
  {
   "cell_type": "code",
   "execution_count": 124,
   "metadata": {},
   "outputs": [],
   "source": [
    "features_df = features_df.withColumn(\"features\", array_to_vector(\"features\"))"
   ]
  },
  {
   "cell_type": "code",
   "execution_count": 125,
   "metadata": {},
   "outputs": [
    {
     "name": "stderr",
     "output_type": "stream",
     "text": [
      "2023-03-11 13:45:01.965046: I tensorflow/core/platform/cpu_feature_guard.cc:193] This TensorFlow binary is optimized with oneAPI Deep Neural Network Library (oneDNN) to use the following CPU instructions in performance-critical operations:  AVX2\n",
      "To enable them in other operations, rebuild TensorFlow with the appropriate compiler flags.\n",
      "2023-03-11 13:45:02.982232: W tensorflow/compiler/xla/stream_executor/platform/default/dso_loader.cc:64] Could not load dynamic library 'libcudart.so.11.0'; dlerror: libcudart.so.11.0: cannot open shared object file: No such file or directory\n",
      "2023-03-11 13:45:02.992497: I tensorflow/compiler/xla/stream_executor/cuda/cudart_stub.cc:29] Ignore above cudart dlerror if you do not have a GPU set up on your machine.\n",
      "2023-03-11 13:45:07.817606: W tensorflow/compiler/xla/stream_executor/platform/default/dso_loader.cc:64] Could not load dynamic library 'libnvinfer.so.7'; dlerror: libnvinfer.so.7: cannot open shared object file: No such file or directory\n",
      "2023-03-11 13:45:07.820439: W tensorflow/compiler/xla/stream_executor/platform/default/dso_loader.cc:64] Could not load dynamic library 'libnvinfer_plugin.so.7'; dlerror: libnvinfer_plugin.so.7: cannot open shared object file: No such file or directory\n",
      "2023-03-11 13:45:07.820519: W tensorflow/compiler/tf2tensorrt/utils/py_utils.cc:38] TF-TRT Warning: Cannot dlopen some TensorRT libraries. If you would like to use Nvidia GPU with TensorRT, please make sure the missing libraries mentioned above are installed properly.\n",
      "2023-03-11 13:45:11.156620: W tensorflow/compiler/xla/stream_executor/platform/default/dso_loader.cc:64] Could not load dynamic library 'libcuda.so.1'; dlerror: libcuda.so.1: cannot open shared object file: No such file or directory\n",
      "2023-03-11 13:45:11.156918: W tensorflow/compiler/xla/stream_executor/cuda/cuda_driver.cc:265] failed call to cuInit: UNKNOWN ERROR (303)\n",
      "2023-03-11 13:45:11.156974: I tensorflow/compiler/xla/stream_executor/cuda/cuda_diagnostics.cc:156] kernel driver does not appear to be running on this host (dubois-VirtualBox): /proc/driver/nvidia/version does not exist\n",
      "2023-03-11 13:45:11.157227: I tensorflow/core/platform/cpu_feature_guard.cc:193] This TensorFlow binary is optimized with oneAPI Deep Neural Network Library (oneDNN) to use the following CPU instructions in performance-critical operations:  AVX2\n",
      "To enable them in other operations, rebuild TensorFlow with the appropriate compiler flags.\n",
      "2023-03-11 13:45:17.806765: W tensorflow/tsl/framework/cpu_allocator_impl.cc:82] Allocation of 33718272 exceeds 10% of free system memory.\n",
      "2023-03-11 13:45:17.907384: W tensorflow/tsl/framework/cpu_allocator_impl.cc:82] Allocation of 33718272 exceeds 10% of free system memory.\n",
      "2023-03-11 13:45:17.958957: W tensorflow/tsl/framework/cpu_allocator_impl.cc:82] Allocation of 33718272 exceeds 10% of free system memory.\n",
      "2023-03-11 13:45:18.028345: W tensorflow/tsl/framework/cpu_allocator_impl.cc:82] Allocation of 101154816 exceeds 10% of free system memory.\n",
      "2023-03-11 13:45:18.139619: W tensorflow/tsl/framework/cpu_allocator_impl.cc:82] Allocation of 102969216 exceeds 10% of free system memory.\n",
      "1/1 [==============================] - 4s 4s/step\n",
      "2023-03-11 13:45:21.605547: I tensorflow/core/platform/cpu_feature_guard.cc:193] This TensorFlow binary is optimized with oneAPI Deep Neural Network Library (oneDNN) to use the following CPU instructions in performance-critical operations:  AVX2\n",
      "To enable them in other operations, rebuild TensorFlow with the appropriate compiler flags.\n",
      "2023-03-11 13:45:22.797059: W tensorflow/compiler/xla/stream_executor/platform/default/dso_loader.cc:64] Could not load dynamic library 'libcudart.so.11.0'; dlerror: libcudart.so.11.0: cannot open shared object file: No such file or directory\n",
      "2023-03-11 13:45:22.797467: I tensorflow/compiler/xla/stream_executor/cuda/cudart_stub.cc:29] Ignore above cudart dlerror if you do not have a GPU set up on your machine.\n",
      "2023-03-11 13:45:26.684092: W tensorflow/compiler/xla/stream_executor/platform/default/dso_loader.cc:64] Could not load dynamic library 'libnvinfer.so.7'; dlerror: libnvinfer.so.7: cannot open shared object file: No such file or directory\n",
      "2023-03-11 13:45:26.686799: W tensorflow/compiler/xla/stream_executor/platform/default/dso_loader.cc:64] Could not load dynamic library 'libnvinfer_plugin.so.7'; dlerror: libnvinfer_plugin.so.7: cannot open shared object file: No such file or directory\n",
      "2023-03-11 13:45:26.686845: W tensorflow/compiler/tf2tensorrt/utils/py_utils.cc:38] TF-TRT Warning: Cannot dlopen some TensorRT libraries. If you would like to use Nvidia GPU with TensorRT, please make sure the missing libraries mentioned above are installed properly.\n",
      "2023-03-11 13:45:29.330780: W tensorflow/compiler/xla/stream_executor/platform/default/dso_loader.cc:64] Could not load dynamic library 'libcuda.so.1'; dlerror: libcuda.so.1: cannot open shared object file: No such file or directory\n",
      "2023-03-11 13:45:29.335786: W tensorflow/compiler/xla/stream_executor/cuda/cuda_driver.cc:265] failed call to cuInit: UNKNOWN ERROR (303)\n",
      "2023-03-11 13:45:29.336035: I tensorflow/compiler/xla/stream_executor/cuda/cuda_diagnostics.cc:156] kernel driver does not appear to be running on this host (dubois-VirtualBox): /proc/driver/nvidia/version does not exist\n",
      "2023-03-11 13:45:29.336492: I tensorflow/core/platform/cpu_feature_guard.cc:193] This TensorFlow binary is optimized with oneAPI Deep Neural Network Library (oneDNN) to use the following CPU instructions in performance-critical operations:  AVX2\n",
      "To enable them in other operations, rebuild TensorFlow with the appropriate compiler flags.\n",
      "2023-03-11 13:45:33.012311: W tensorflow/tsl/framework/cpu_allocator_impl.cc:82] Allocation of 101154816 exceeds 10% of free system memory.\n",
      "2023-03-11 13:45:33.117814: W tensorflow/tsl/framework/cpu_allocator_impl.cc:82] Allocation of 102969216 exceeds 10% of free system memory.\n",
      "1/1 [==============================] - 2s 2s/step\n",
      "2023-03-11 13:45:34.931925: I tensorflow/core/platform/cpu_feature_guard.cc:193] This TensorFlow binary is optimized with oneAPI Deep Neural Network Library (oneDNN) to use the following CPU instructions in performance-critical operations:  AVX2\n",
      "To enable them in other operations, rebuild TensorFlow with the appropriate compiler flags.\n",
      "2023-03-11 13:45:35.282628: W tensorflow/compiler/xla/stream_executor/platform/default/dso_loader.cc:64] Could not load dynamic library 'libcudart.so.11.0'; dlerror: libcudart.so.11.0: cannot open shared object file: No such file or directory\n",
      "2023-03-11 13:45:35.283511: I tensorflow/compiler/xla/stream_executor/cuda/cudart_stub.cc:29] Ignore above cudart dlerror if you do not have a GPU set up on your machine.\n",
      "2023-03-11 13:45:37.455415: W tensorflow/compiler/xla/stream_executor/platform/default/dso_loader.cc:64] Could not load dynamic library 'libnvinfer.so.7'; dlerror: libnvinfer.so.7: cannot open shared object file: No such file or directory\n",
      "2023-03-11 13:45:37.456086: W tensorflow/compiler/xla/stream_executor/platform/default/dso_loader.cc:64] Could not load dynamic library 'libnvinfer_plugin.so.7'; dlerror: libnvinfer_plugin.so.7: cannot open shared object file: No such file or directory\n",
      "2023-03-11 13:45:37.456330: W tensorflow/compiler/tf2tensorrt/utils/py_utils.cc:38] TF-TRT Warning: Cannot dlopen some TensorRT libraries. If you would like to use Nvidia GPU with TensorRT, please make sure the missing libraries mentioned above are installed properly.\n",
      "2023-03-11 13:45:40.247764: W tensorflow/compiler/xla/stream_executor/platform/default/dso_loader.cc:64] Could not load dynamic library 'libcuda.so.1'; dlerror: libcuda.so.1: cannot open shared object file: No such file or directory\n",
      "2023-03-11 13:45:40.248115: W tensorflow/compiler/xla/stream_executor/cuda/cuda_driver.cc:265] failed call to cuInit: UNKNOWN ERROR (303)\n",
      "2023-03-11 13:45:40.248164: I tensorflow/compiler/xla/stream_executor/cuda/cuda_diagnostics.cc:156] kernel driver does not appear to be running on this host (dubois-VirtualBox): /proc/driver/nvidia/version does not exist\n",
      "2023-03-11 13:45:40.248456: I tensorflow/core/platform/cpu_feature_guard.cc:193] This TensorFlow binary is optimized with oneAPI Deep Neural Network Library (oneDNN) to use the following CPU instructions in performance-critical operations:  AVX2\n",
      "To enable them in other operations, rebuild TensorFlow with the appropriate compiler flags.\n",
      "2023-03-11 13:45:44.902540: W tensorflow/tsl/framework/cpu_allocator_impl.cc:82] Allocation of 101154816 exceeds 10% of free system memory.\n",
      "2023-03-11 13:45:44.964307: W tensorflow/tsl/framework/cpu_allocator_impl.cc:82] Allocation of 102969216 exceeds 10% of free system memory.\n",
      "1/1 [==============================] - 2s 2s/step\n",
      "2023-03-11 13:45:50.207258: W tensorflow/tsl/framework/cpu_allocator_impl.cc:82] Allocation of 86704128 exceeds 10% of free system memory.\n",
      "2023-03-11 13:45:50.281854: W tensorflow/tsl/framework/cpu_allocator_impl.cc:82] Allocation of 88259328 exceeds 10% of free system memory.\n",
      "1/1 [==============================] - 2s 2s/step\n",
      "2023-03-11 13:45:55.755128: W tensorflow/tsl/framework/cpu_allocator_impl.cc:82] Allocation of 81887232 exceeds 10% of free system memory.\n",
      "1/1 [==============================] - 2s 2s/step\n",
      "1/1 [==============================] - 2s 2s/step                  (3 + 1) / 20]\n",
      "1/1 [==============================] - ETA: 0sWARNING:tensorflow:5 out of the last 5 calls to <function Model.make_predict_function.<locals>.predict_function at 0x7f0076fb2a70> triggered tf.function retracing. Tracing is expensive and the excessive number of tracings could be due to (1) creating @tf.function repeatedly in a loop, (2) passing tensors with different shapes, (3) passing Python objects instead of tensors. For (1), please define your @tf.function outside of the loop. For (2), @tf.function has reduce_retracing=True option that can avoid unnecessary retracing. For (3), please refer to https://www.tensorflow.org/guide/function#controlling_retracing and https://www.tensorflow.org/api_docs/python/tf/function for  more details.\n",
      "1/1 [==============================] - 2s 2s/step\n",
      "WARNING:tensorflow:6 out of the last 6 calls to <function Model.make_predict_function.<locals>.predict_function at 0x7f0077146f80> triggered tf.function retracing. Tracing is expensive and the excessive number of tracings could be due to (1) creating @tf.function repeatedly in a loop, (2) passing tensors with different shapes, (3) passing Python objects instead of tensors. For (1), please define your @tf.function outside of the loop. For (2), @tf.function has reduce_retracing=True option that can avoid unnecessary retracing. For (3), please refer to https://www.tensorflow.org/guide/function#controlling_retracing and https://www.tensorflow.org/api_docs/python/tf/function for  more details.\n",
      "1/1 [==============================] - 2s 2s/step\n",
      "1/1 [==============================] - 2s 2s/step                  (6 + 1) / 20]\n",
      "1/1 [==============================] - 2s 2s/step                  (7 + 1) / 20]\n",
      "1/1 [==============================] - 2s 2s/step                  (8 + 1) / 20]\n",
      "1/1 [==============================] - 2s 2s/step                  (9 + 1) / 20]\n",
      "1/1 [==============================] - 2s 2s/step                 (10 + 1) / 20]\n",
      "1/1 [==============================] - 2s 2s/step                 (11 + 1) / 20]\n",
      "1/1 [==============================] - 2s 2s/step                 (12 + 1) / 20]\n",
      "1/1 [==============================] - 2s 2s/step                 (13 + 1) / 20]\n",
      "1/1 [==============================] - 2s 2s/step>                (14 + 1) / 20]\n",
      "1/1 [==============================] - 2s 2s/step===>             (15 + 1) / 20]\n",
      "1/1 [==============================] - 2s 2s/step=====>           (16 + 1) / 20]\n",
      "1/1 [==============================] - 2s 2s/step========>        (17 + 1) / 20]\n",
      "1/1 [==============================] - 1s 1s/step===========>     (18 + 1) / 20]\n",
      "1/1 [==============================] - 2s 2s/step==============>  (19 + 1) / 20]\n",
      "1/1 [==============================] - 2s 2s/step                   (0 + 1) / 1]\n",
      "2023-03-11 13:47:26.165224: I tensorflow/core/platform/cpu_feature_guard.cc:193] This TensorFlow binary is optimized with oneAPI Deep Neural Network Library (oneDNN) to use the following CPU instructions in performance-critical operations:  AVX2\n",
      "To enable them in other operations, rebuild TensorFlow with the appropriate compiler flags.\n",
      "2023-03-11 13:47:26.544219: W tensorflow/compiler/xla/stream_executor/platform/default/dso_loader.cc:64] Could not load dynamic library 'libcudart.so.11.0'; dlerror: libcudart.so.11.0: cannot open shared object file: No such file or directory\n",
      "2023-03-11 13:47:26.544537: I tensorflow/compiler/xla/stream_executor/cuda/cudart_stub.cc:29] Ignore above cudart dlerror if you do not have a GPU set up on your machine.\n",
      "2023-03-11 13:47:27.933135: W tensorflow/compiler/xla/stream_executor/platform/default/dso_loader.cc:64] Could not load dynamic library 'libnvinfer.so.7'; dlerror: libnvinfer.so.7: cannot open shared object file: No such file or directory\n",
      "2023-03-11 13:47:27.933749: W tensorflow/compiler/xla/stream_executor/platform/default/dso_loader.cc:64] Could not load dynamic library 'libnvinfer_plugin.so.7'; dlerror: libnvinfer_plugin.so.7: cannot open shared object file: No such file or directory\n",
      "2023-03-11 13:47:27.933970: W tensorflow/compiler/tf2tensorrt/utils/py_utils.cc:38] TF-TRT Warning: Cannot dlopen some TensorRT libraries. If you would like to use Nvidia GPU with TensorRT, please make sure the missing libraries mentioned above are installed properly.\n",
      "2023-03-11 13:47:29.342559: W tensorflow/compiler/xla/stream_executor/platform/default/dso_loader.cc:64] Could not load dynamic library 'libcuda.so.1'; dlerror: libcuda.so.1: cannot open shared object file: No such file or directory\n",
      "2023-03-11 13:47:29.343277: W tensorflow/compiler/xla/stream_executor/cuda/cuda_driver.cc:265] failed call to cuInit: UNKNOWN ERROR (303)\n",
      "2023-03-11 13:47:29.343547: I tensorflow/compiler/xla/stream_executor/cuda/cuda_diagnostics.cc:156] kernel driver does not appear to be running on this host (dubois-VirtualBox): /proc/driver/nvidia/version does not exist\n",
      "2023-03-11 13:47:29.344046: I tensorflow/core/platform/cpu_feature_guard.cc:193] This TensorFlow binary is optimized with oneAPI Deep Neural Network Library (oneDNN) to use the following CPU instructions in performance-critical operations:  AVX2\n",
      "To enable them in other operations, rebuild TensorFlow with the appropriate compiler flags.\n",
      "2023-03-11 13:47:34.017416: W tensorflow/tsl/framework/cpu_allocator_impl.cc:82] Allocation of 101154816 exceeds 10% of free system memory.\n",
      "2023-03-11 13:47:34.099237: W tensorflow/tsl/framework/cpu_allocator_impl.cc:82] Allocation of 102969216 exceeds 10% of free system memory.\n",
      "1/1 [==============================] - 3s 3s/step\n"
     ]
    },
    {
     "name": "stdout",
     "output_type": "stream",
     "text": [
      "23/03/11 13:47:37 WARN InstanceBuilder$NativeBLAS: Failed to load implementation from:dev.ludovic.netlib.blas.JNIBLAS\n",
      "23/03/11 13:47:37 WARN InstanceBuilder$NativeBLAS: Failed to load implementation from:dev.ludovic.netlib.blas.ForeignLinkerBLAS\n"
     ]
    },
    {
     "name": "stderr",
     "output_type": "stream",
     "text": [
      "2023-03-11 13:47:42.930072: W tensorflow/tsl/framework/cpu_allocator_impl.cc:82] Allocation of 86704128 exceeds 10% of free system memory.\n",
      "2023-03-11 13:47:43.009308: W tensorflow/tsl/framework/cpu_allocator_impl.cc:82] Allocation of 88259328 exceeds 10% of free system memory.\n",
      "1/1 [==============================] - 3s 3s/step\n",
      "2023-03-11 13:47:51.526931: W tensorflow/tsl/framework/cpu_allocator_impl.cc:82] Allocation of 81887232 exceeds 10% of free system memory.\n",
      "1/1 [==============================] - 3s 3s/step\n",
      "1/1 [==============================] - 2s 2s/step                  (3 + 1) / 20]\n",
      "1/1 [==============================] - ETA: 0sWARNING:tensorflow:5 out of the last 5 calls to <function Model.make_predict_function.<locals>.predict_function at 0x7f0076fc2a70> triggered tf.function retracing. Tracing is expensive and the excessive number of tracings could be due to (1) creating @tf.function repeatedly in a loop, (2) passing tensors with different shapes, (3) passing Python objects instead of tensors. For (1), please define your @tf.function outside of the loop. For (2), @tf.function has reduce_retracing=True option that can avoid unnecessary retracing. For (3), please refer to https://www.tensorflow.org/guide/function#controlling_retracing and https://www.tensorflow.org/api_docs/python/tf/function for  more details.\n",
      "1/1 [==============================] - 2s 2s/step\n",
      "1/1 [==============================] - ETA: 0sWARNING:tensorflow:6 out of the last 6 calls to <function Model.make_predict_function.<locals>.predict_function at 0x7f0077146f80> triggered tf.function retracing. Tracing is expensive and the excessive number of tracings could be due to (1) creating @tf.function repeatedly in a loop, (2) passing tensors with different shapes, (3) passing Python objects instead of tensors. For (1), please define your @tf.function outside of the loop. For (2), @tf.function has reduce_retracing=True option that can avoid unnecessary retracing. For (3), please refer to https://www.tensorflow.org/guide/function#controlling_retracing and https://www.tensorflow.org/api_docs/python/tf/function for  more details.\n",
      "1/1 [==============================] - 2s 2s/step\n",
      "1/1 [==============================] - 3s 3s/step                  (6 + 1) / 20]\n",
      "1/1 [==============================] - 2s 2s/step                  (7 + 1) / 20]\n",
      "1/1 [==============================] - 2s 2s/step                  (8 + 1) / 20]\n",
      "1/1 [==============================] - 2s 2s/step                  (9 + 1) / 20]\n",
      "1/1 [==============================] - 3s 3s/step                 (10 + 1) / 20]\n",
      "1/1 [==============================] - 3s 3s/step                 (11 + 1) / 20]\n",
      "1/1 [==============================] - 2s 2s/step                 (12 + 1) / 20]\n",
      "1/1 [==============================] - 2s 2s/step                 (13 + 1) / 20]\n",
      "1/1 [==============================] - 2s 2s/step>                (14 + 1) / 20]\n",
      "1/1 [==============================] - 2s 2s/step===>             (15 + 1) / 20]\n",
      "1/1 [==============================] - 2s 2s/step=====>           (16 + 1) / 20]\n",
      "1/1 [==============================] - 2s 2s/step========>        (17 + 1) / 20]\n",
      "1/1 [==============================] - 2s 2s/step===========>     (18 + 1) / 20]\n",
      "1/1 [==============================] - 4s 4s/step==============>  (19 + 1) / 20]\n",
      "                                                                                \r"
     ]
    },
    {
     "name": "stdout",
     "output_type": "stream",
     "text": [
      "23/03/11 13:49:46 WARN LAPACK: Failed to load implementation from: com.github.fommil.netlib.NativeSystemLAPACK\n",
      "23/03/11 13:49:46 WARN LAPACK: Failed to load implementation from: com.github.fommil.netlib.NativeRefLAPACK\n"
     ]
    },
    {
     "name": "stderr",
     "output_type": "stream",
     "text": [
      "[Stage 33:===================================================>    (12 + 1) / 13]\r"
     ]
    },
    {
     "name": "stdout",
     "output_type": "stream",
     "text": [
      "23/03/11 13:50:02 WARN DAGScheduler: Broadcasting large task binary with size 1044.7 KiB\n"
     ]
    },
    {
     "name": "stderr",
     "output_type": "stream",
     "text": [
      "1/1 [==============================] - 2s 2s/step                   (0 + 1) / 1]\n"
     ]
    },
    {
     "name": "stdout",
     "output_type": "stream",
     "text": [
      "+----------------------------------------------------------------------------------------------------------------------------------------------------------------------------------------------------------------------------------------------------------------------------------------------------------------------------------------------------------------------------------------------------------------------------------------------------------------------------------------------------------------------------------------------------------------------------------------------------------------------------------------------------------------------------------------------------------------------------------------------------------------------------------------------------------------------------------------------------------------------------------------------------------------------------------------------------------------------------------------------------------------------------------------------------------------------------------------------------------------------------------------------------------------------------------------------------------------------------------------------------------------------------------------------------------------------------------------------------------------------------------------------------------------------------------------------------------------------------------------------------------------------------------------------------------------------------------------------------------------------------------------------------------------------------------------------------------------------------------------------------------------------------------------------------------------------------------------------------------------------------------------------------------------------------------------------------------------------------------------------------------------------------------+\n",
      "|pcaFeatures                                                                                                                                                                                                                                                                                                                                                                                                                                                                                                                                                                                                                                                                                                                                                                                                                                                                                                                                                                                                                                                                                                                                                                                                                                                                                                                                                                                                                                                                                                                                                                                                                                                                                                                                                                                                                                                                                                                                                                                                                       |\n",
      "+----------------------------------------------------------------------------------------------------------------------------------------------------------------------------------------------------------------------------------------------------------------------------------------------------------------------------------------------------------------------------------------------------------------------------------------------------------------------------------------------------------------------------------------------------------------------------------------------------------------------------------------------------------------------------------------------------------------------------------------------------------------------------------------------------------------------------------------------------------------------------------------------------------------------------------------------------------------------------------------------------------------------------------------------------------------------------------------------------------------------------------------------------------------------------------------------------------------------------------------------------------------------------------------------------------------------------------------------------------------------------------------------------------------------------------------------------------------------------------------------------------------------------------------------------------------------------------------------------------------------------------------------------------------------------------------------------------------------------------------------------------------------------------------------------------------------------------------------------------------------------------------------------------------------------------------------------------------------------------------------------------------------------------+\n",
      "|[-2.732589050115469,4.009053177003156,-1.1428996215145013,-3.4922863863250244,1.3145051969850494,6.23349031553036,0.28495226862769857,2.1529905061865606,-2.595004510532526,1.646808358059677,-0.8448351698651062,-1.9954360841749053,0.5473769673068812,-1.5886779038342567,2.6360865183440634,-5.842655057867409,-1.5978750316467385,-1.8812109790692773,0.49342548555200655,-0.18037470745113826,1.6470994547574338,5.200902351115661,2.042491405768396,1.454596477707889,0.26454134600234075,2.4686218879911697,1.2526096104133515,-0.16318027121516077,-2.7466142923835917,0.49579896856237865,-0.20501707801589045,0.08680788181647614,0.15904570438266655,-1.6251495897140509,2.2183945683290966,0.8290416417607542,0.2826049894847492,-0.42717621588051097,-1.6004008659580287,0.48921618738690154,-4.625141591274316,0.9882657299021528,0.7193072775024971,0.9626762521179733,-0.010287066895169276,1.1931737796592001,-0.4582764919174768,0.6155733734836147,1.286144864445314,0.6703979298055954,-1.7915142170074452,-0.4665166989984689,1.3262703680207675,1.8176544398215704,-1.0185160902984476,0.5247155274850733,-0.25601388365996314,0.5866498627674162,0.10336625918921277,-1.3426005833953734,0.7525995939763636,1.3152491789034566,-2.3514138652410908,0.7965059799439145,1.4099146066820931,1.4360058198112682,-0.5509765788831564,0.24683028771311136,-0.17523916974026071,-2.2227561926000097,0.37343292735936523,-0.9719563254087057,-1.6179157663865327,2.309912417329028,1.5353936407084985,1.4781027222482226,-1.562472856678114,-0.04486186013755992,-3.1969122150594287,-0.7138697390646656,-1.1698756827647652,0.09106763678526214,0.4970550270139008,-1.1984538741523245,0.08052888110710647,1.4363121156960983,-1.9624984549575053,0.15896475310090025,0.39928121016048024,1.420539060997769,-0.2783175003017921,-0.6616815758878232,-1.2992624248726574,-0.736738990958696,-1.059488052150332,0.5204427100638988,1.2014943339479018,-0.17372127910428428,1.3003975395829959,-0.26334544251670045]|\n",
      "|[2.89650183939736,1.4878984104912354,10.707233723992843,1.2487202378101736,-3.1212765044392765,-3.0359088835652694,-4.130234855177376,4.338886068523034,1.0114264277731975,1.8343130733267312,-7.065789718691052,0.10133852924349569,0.8248300279422465,2.765684772878715,0.2154070853772842,-5.186174328263435,2.3700764785055517,0.1461219206926151,4.514663211542366,6.46752048048269,7.658632301144694,1.4917905276925898,2.52240191225824,2.0401761494513053,-1.2423416445390982,-0.17307987013987908,-1.2786894820527654,1.1855270279056531,-2.8184889941985447,1.4215642358180223,2.033424407016321,3.484923581052426,-1.1819084525847905,-1.002621575846844,2.83940529610917,-1.4016385994749998,0.5096521836739374,3.3573447819347555,0.3522139668081098,0.9764571462822581,-0.5528007732073418,1.6228753581964157,-0.07367902862616223,0.33858640146143487,-0.2984036229384004,-0.20300173744081487,-1.6386518231076859,-0.5290966356273361,0.07024954872875969,-0.2921351672157257,0.9393554604249735,-3.196513404480247,0.4863113191891621,2.434318622298899,2.2865685406976923,0.9115361214425624,-1.649969611886189,1.5514022232909674,-0.7484546694753273,-2.1511499086658876,0.77012499527839,1.657211030769967,-4.067283278820223,1.4665478691039375,0.6174890547203382,1.646875908888374,0.0977363364384467,1.2599525683582016,-0.17387976647090578,-2.704234257099923,0.4183169277541425,-1.1436072068116232,-1.9152013544482924,2.634897715642649,1.3676492310896269,1.502482707702283,-1.2064441577830471,-0.496624526360963,-3.437091857219666,-0.43955038441387523,-1.8077983681582248,0.16002637996361482,0.3647325252267148,-1.2602470699201098,0.39269137570867896,1.3769593515137375,-0.8381351330027045,0.6220057883291321,0.3129181247424585,1.3920926574814476,0.32558435710773126,0.05522382029946333,-1.5138811403769672,-0.4943667865104161,-1.5317101164328264,0.471163185661758,1.8679990979830394,0.3058296897083722,1.0630109328374893,-0.6514006039186601]                                  |\n",
      "|[-1.4087537108760009,-4.3834445513925635,8.827184136493395,-0.5243791571882196,5.186153905883012,-4.5707446786821,-2.4327622497591954,0.18345011750081563,1.872819367795669,-3.0773503301207223,-3.320395148400075,1.8203232979858222,1.829816354345008,-5.722404486760663,0.4835515251286613,-0.4266440504422709,1.523073903224402,-2.436687623461744,0.7330442548622718,1.2661944024465728,4.1056302989293325,3.2820478186331195,0.13991158603579795,2.5485081430521483,-0.6895396864088397,3.3371682034606245,-0.8448099572887278,0.7382479921325205,-0.3035856406032665,0.5305383974354245,-0.4914436691571479,-1.157361689992358,-1.598306275724792,-0.5783560456696019,0.5236579884919819,1.996746368842896,-2.1548326521237144,1.0617964909997017,-3.6252168317453104,-0.0868729100849564,-1.252446773824195,-0.6714690872794948,-0.5259115428616911,0.13246938317656207,0.41499221129732633,0.18710818043563998,-1.557089353605098,1.355066194523062,0.46929853017513035,0.7861893166242976,-1.7187776137629822,-0.027750612150464385,0.6523179849502775,1.7556019416251756,-1.154338067123404,0.7418338469959891,0.41493091432641394,1.7097852779419966,0.0669195143615119,-1.8207286353121026,1.2817190253716475,0.7960121036058881,-1.9090886636055258,0.7451717775926534,1.4736085123132627,1.7335400506315466,-0.21912657120155318,0.18529764721327882,-0.2578769487157427,-2.489727832419041,0.32421961122665793,-0.9132517940769853,-1.551852994650461,1.9326687320470939,1.7550734349962758,1.3764493500514428,-1.424659236568045,-0.358165548174431,-2.8348704142418777,-0.055126421303986234,-1.648803422977939,-0.0728270979416204,1.211412456215971,-1.8202736394696177,0.8793220442492794,1.2905003142717018,-1.9445368267262984,0.6082282899711418,-0.019052269845112258,0.6989293282337665,0.37826342452012734,-0.7502761735214786,-0.9621154999196408,0.13545010775266927,-0.8001348976205849,0.2308520636947387,1.947983212343819,-0.5978048183234966,1.0955803896924496,0.04012816934326624]            |\n",
      "|[-1.310803362629711,0.9635162792673033,14.627693174959774,3.6502231065365565,-2.2144405591655416,-2.882590389006866,-2.8918160689809382,-0.26654385097848354,3.2480046019858224,-3.3849894064377315,-4.958744179858137,1.8597365728311916,-1.0556210176425531,-3.4623530010428634,2.478482600619213,-3.9908758531025876,0.6661805431569969,2.145483860153876,1.85197399711827,1.0907311028394049,3.2105447574324164,5.589785126767058,4.139960323349462,2.827833340908088,-0.6073245293281636,4.991899803605775,-1.107193533895096,2.0409660267418057,-5.462697809078285,-0.48283091639677655,-0.5460442650104059,-1.073931581100134,1.932477551660928,-6.695043793944839,0.7020173395310754,0.3670946390151539,2.1878286072091226,1.2240530635130225,1.3440871145536775,1.416893809067973,-1.7027068770846085,0.786262581537031,1.3840658597359952,2.5866597951226433,2.613237120604897,1.7654758251999996,-0.4149784257780354,1.8225305615839478,0.3520391578863859,1.3791121933435344,-0.6054139456683291,-0.5285629746320466,2.733257205164906,2.612759935314214,-0.2090042537765714,0.987856880408327,2.145677025939099,4.535078809313866,0.9350602113195025,-2.8352127666644695,0.7145109803547167,-0.0871496662957657,-0.5243322373180194,0.3403410148055061,1.5629022614290105,2.2306378069370263,-2.4061989286746157,-0.2726013512421106,0.6182869518226503,-3.2782274181825115,0.650027169487346,-0.8918490012244911,-1.0587459190577342,2.811155444732762,1.0147137391490275,0.9232338284121292,-1.5191893773343346,0.08587226622727616,-2.408709367762858,-0.6075040984980521,-1.2400265142739892,0.6876941975843675,0.6709320458547235,-1.6651958613183895,0.2053075705843114,1.4442180893965824,-1.2356927339542214,0.16164787257721572,0.06106760080036241,1.0858299227691683,-0.22964347817119135,-0.22836858143912273,-1.1249807123102393,-0.2163781330329121,-0.8115602471708727,0.7803753509254543,1.7696336800083408,-0.6517928951980344,0.9727914305641995,0.20983000424584314]                              |\n",
      "|[3.7292359954269005,-7.396251874719678,6.57750690759235,4.393216531996141,-2.044333564313065,-0.10492745181377312,-0.5003415164730068,0.5246841925744569,2.368208730137736,-5.747337683810574,0.5352439044130402,0.7128809442421381,-0.5579963004243017,-1.9927379300316586,2.7974710221197783,-3.9984782607487843,1.7169756723833247,0.5635973714193088,-0.2666681800360426,1.6843461740916044,1.1890672352957057,3.513184318771047,2.435840223989587,-2.062648936688119,0.14573468394705044,1.956235203908769,3.1617076122618624,1.6410389638331122,-2.307422262808839,-0.7179543740520598,-1.7468817613142666,0.5489860602152014,1.7708777228870993,-4.376066585701783,2.6447791434663905,-0.46100927261348384,0.0657813872711235,0.8744409228857687,-3.2906749111539066,0.9814797243952949,1.0835683918168215,0.008016511835137309,-0.47838089964755526,-1.4857694091330493,1.1088314096249958,-1.0579157670929888,0.038368136335933486,0.6422796164524425,0.8083476720094378,0.7191981552214431,-1.6277887840016303,-0.9106664473736632,1.2663100270492267,0.2528905012359045,-1.4000653231868405,0.4729772731350691,1.3399312230262597,0.9584857543232289,1.0765213252172374,-3.23178659388329,-0.34719873447643196,2.1530502863414944,-3.5651386192610386,0.27706758935620657,1.6458534573815466,1.7088751361324523,-0.5269513297861584,0.8518627305639445,-0.391354347051529,-2.2070218838225735,-0.31264006206972395,-0.8043362772089225,-1.513476680811691,2.405041740289049,2.0782641668457784,1.1321420133326325,-1.8985427103464407,-0.5350423663072721,-3.0530091700209527,-0.2160876428431395,-1.2200735288034892,0.34970144925912816,0.8240109787638842,-1.1757232132781015,-0.03597785022378933,1.4765320523282752,-1.502001538334944,0.13106137270814708,0.5317851576730174,1.2139662921333498,-0.2425770010016159,-0.17995442750643653,-1.5352382984480675,-0.25064480819843055,-0.9263241263296131,0.4833136214554613,1.943692711151949,-0.42339510796670965,1.1168647087623114,-0.07020605034891882]         |\n",
      "|[5.8692217372254945,-0.9444324912981776,11.56937330429313,4.428657512201359,-5.769018680593878,4.588421157997131,-6.370864086469263,0.7242831276248639,2.881255015508439,-4.560529191564662,0.9730501983616439,-3.2428986936496558,1.016126321617758,-4.284679948414128,0.8570761183666684,-3.9634041235305437,-0.127105707253973,0.3440412150835048,2.769878423816106,1.984782676392312,0.8775125288874933,4.139893034860109,1.8177125605147955,0.3070655743730792,-2.8061361920309826,4.146746584119457,0.49979432276132096,0.6860252485461185,0.6340498054352265,-0.8808488226099872,0.10675255806430523,-0.9600291393989651,-0.026284240119061608,-0.8026238996438747,0.1304347835972273,-0.5694269619938848,-1.565649564516447,1.5204539015880116,-1.5788629833021568,-0.3927539746016725,-0.5667738018949308,1.721758586085443,-0.5215167757818372,0.7316963344240506,0.9985671686464533,0.787621171871777,-0.5492846869341993,1.6910997641220638,0.9960093835636302,1.0773692313112309,-2.2764876527917504,-1.666354561418658,1.4536161185817555,3.346990937974478,-0.25721827377725837,-0.5107692882695796,-0.5518430372331243,0.4883558767749635,0.8631781961378379,-0.20795053719366638,1.4061346304661833,0.7581079976670725,-2.7829753416063157,0.5190364624545172,4.1122264823508985,2.406860239247465,-0.8266345446081221,-0.3616696841607558,1.9437021249288273,-5.083311673073169,-0.11884534875212294,-3.7524764799589136,-1.9171419880896918,0.9235033060580778,3.6609351389527798,2.9368265746966298,-1.0175656974203473,-0.9818697877222237,-3.1519528074931755,-1.1038020978597711,-0.5294258037969501,-0.09997036244995648,0.7706277458627254,-1.2831485306080095,0.3721727488741844,1.0829116621400037,-1.5279368933366209,0.8688722427753889,1.210249466418935,0.5835330395875954,-0.14618949655959565,-1.0304199746725473,-1.6617959815367898,-0.7374184511148333,-1.4359085304556396,0.8052888982957047,1.3728852853512665,-0.31776372918880963,0.6303555947881153,0.0247584683900668]                  |\n",
      "|[-1.6660293189009123,-0.03206443317524754,13.801670590138356,2.772683366261412,1.2344351513601843,-2.5278642828986477,-4.538403155643777,0.15511459314661366,4.95754280125388,-4.658112634612911,-3.1731741621293663,0.07238914252367579,2.2875996785976493,-3.7574352289409387,1.6558137761296106,-1.6054959658785595,-0.09149574813318907,-1.1564913905833243,1.1785884343635733,0.3329282960115648,0.24348107695049528,5.145133459473903,1.8828741647726155,4.076466612982483,0.4892854752268587,4.349504054667159,-0.7288921579893938,2.3816067020137996,-2.467524682705943,-0.2389767057609839,1.6451262662146884,-2.565110136048147,-0.024475310925902997,-4.207481313771257,2.2605700629464156,0.015729822145692556,2.2577530913954273,2.6770274975363777,1.1191864164851826,-0.04433969607494036,-1.79230896091534,-0.6964416836407599,0.9368761517713572,0.5080805370277934,1.5140436948434082,1.3663192578993495,0.25336020702202194,0.41384316484854533,0.9594982019756049,0.7010157093224219,-1.96723964478453,-1.3091709574554333,0.9437043461109955,2.1309525516650236,-1.0705503834620742,0.3717689927878012,0.4191019334160347,-0.9810303462571308,1.0802640152083027,0.31967410114740696,-0.0033885307252280146,1.1280220438940083,-2.4911367074462194,0.923760177225668,1.7496375607568204,1.334760145041804,-0.6915906966393581,1.0948952934108789,-0.6631092248540884,-2.3426091062917407,-0.12990067079005976,-0.50528919773323,-1.5488240972706198,2.0846206201173065,1.923946077633875,1.8944422053558674,-2.1422387493324533,-0.5124004051541978,-3.560979876708988,-0.5251928528228051,-1.7035857653041067,0.4673854317733412,0.5321826157479493,-1.4758138478066933,-0.8156589175638671,0.9794602083096295,-1.6248913513351237,-0.30883445775704,0.8995874854262496,1.2287478395618021,-0.5441815524365146,-0.14557486543957907,-1.860530922023325,-0.7384278628550882,-0.3679263051730593,0.12026004789759104,1.2471521389707645,-0.27798107064613053,1.5048627865281352,0.17455584299648838]          |\n",
      "|[11.313669770742873,10.131871969212098,4.394109518889444,12.536294435876442,3.594929376465254,-3.571407839257649,1.2291554491873062,4.065273790820533,4.466407410505354,-4.2215476053071175,2.3989236229641175,3.6672077115119883,4.497383757230603,-0.7288922958415471,0.9306755451963296,-8.251590588140923,-1.05621826834346,0.8538079584620986,1.299806622266993,0.7397821172928263,1.3163275339188498,3.8301574827406974,0.49644323965425363,1.2489963519852603,1.518674103718341,1.8902780923410312,0.3612417392307965,-0.6788600243371504,-1.919411210709171,0.3494308318032565,-1.11787827399906,-1.2821607772408594,0.31155098950265636,-0.819412677445397,1.388236697437177,1.1977002452411356,-0.4474076492526124,0.9414902409981504,-1.3308412332093018,0.8580757171402916,-1.2917103201730677,-0.37408370546105296,-0.13911388945966605,0.2661986366714582,0.6122598173996762,0.5274426162799957,-1.225618195700892,0.40333506841078376,0.5555644324384807,1.4121214224510215,-1.035698257928512,-1.9622572935209341,0.824860999225496,1.7843385407532284,-1.427785140380272,1.0359613154836373,0.592186098749745,1.307401687684696,0.4445930176155306,-0.48119380352131796,0.2906170771711653,1.2452546089983008,-2.706824600160146,0.033205289401689285,1.1555361509527862,1.5364312362612318,-0.7825371145924811,0.04246045919442101,-0.30047474514070244,-2.6022572621716926,0.8855577003399188,-0.9230445097876516,-1.4808668982772113,2.093690367732036,1.3253483728536795,1.301740343368274,-0.41965893402411764,0.026108510736331147,-3.118674608616549,-1.5325947361641052,-1.9206011871640356,-0.01638907935822379,-0.12301884931049287,-2.0123811222655945,-0.4004456917198565,2.1761794671382373,-1.6081497015654633,0.7803783425485447,0.09781685524428853,0.4896544126250183,-0.1792401277729017,-0.9440141497128851,-1.8309144629311274,-1.0175071557420956,-1.0345856160030726,0.4354403021098604,1.7126132319205616,-0.008645374547220542,0.5840382335259237,0.026307533239401562]                  |\n",
      "|[-2.4768441506183505,2.218139997072278,1.653007490542392,4.670251920762318,-1.4522069619723421,-9.530997879444758,-1.7123425637972567,5.8398718375754575,2.346371114199079,1.4633185601195806,-4.233682751078074,-4.858603454061251,2.5967700430606993,-7.621370106040086,4.7128270619145685,-3.469854571538986,-1.0332817423155831,1.182715671063463,3.2535656573303617,5.868827022205192,1.1542199771427293,6.19424054172233,2.8359175830818883,-1.9433695794328607,3.9487055549025327,3.5141218122045608,2.7445638620346164,1.8998535725094245,-2.613315521024945,0.6395337094170782,-0.8165043412414438,-0.46977817168219466,-0.9260742686799691,-0.3320530342117992,0.2201967730727425,0.5822500026726946,-0.35893569037422274,0.4508562219973718,-0.7059805945752436,-0.4338395349120631,-0.31479152650658093,-0.3967695461082762,-0.25324058598967714,-0.20273669621807974,1.1706841940175532,1.543955406105899,-0.7194488398641404,0.5236374594905859,1.0254357498267173,0.3360076051832888,-1.969081660553367,-0.8825634694459736,1.3345759334396958,1.393208016463529,-0.36245502748251013,1.1500296960229588,0.06357955802427741,1.1737700253896828,0.7955430631287824,-0.7423534559725913,1.3659513121384206,2.2949083643350816,-1.7740580188923283,1.8229322730740163,1.9806176325819578,1.2508872580382615,-0.35268774186047114,0.5993667304967061,-0.8743111321363719,-1.2079516604983882,2.699346342040454,-2.0279292621558507,0.6993827043938006,3.0796668557688354,2.932895629373743,0.9476316946923069,-1.2615849905245902,-1.444370183637959,-3.549379235157394,0.4041244270115949,-2.533572012446545,0.8280655721299528,0.4058154321319991,-1.8896232959465584,1.0563497765075744,0.7336044417008614,-1.2180134939405205,0.8080437742936373,0.46675154763256793,1.1666857902260384,-0.33634570527948016,-0.25745510675296074,-1.4716178418128227,-1.4089613607366207,-1.9194397714615399,1.429511186476574,1.3801004505601127,-0.4959917362345546,0.41859830838005657,-0.015010272893949463]                 |\n",
      "|[12.425540433377352,-3.027025022516579,6.723146878074186,6.285208243079306,-2.752083565528251,-3.0077452053544094,-5.1978250402406285,3.5776162455949803,1.7482935254193774,-1.2412948041833343,-2.143951313993195,-4.463084454178055,1.1882462513455914,-2.292808288030228,1.981508411706405,-2.181115323744453,-2.214463943580959,-1.2728605546910536,2.08369606317961,1.5971984083062953,0.10184065742797291,3.4983073531927698,1.5842769214562062,1.933710932082781,-1.6116780812085514,3.28646856329739,-0.30339403219872696,-0.504519537066496,-3.4880611077832184,1.7080102757193438,-0.7748752353055312,-0.7851280916939849,-0.9489898281356549,-2.457456685671622,1.4453246842781269,-0.38173129978092013,1.3785797840982457,1.4563556155922903,-1.370792061638286,-2.4311962621986623,-1.9413861688797986,0.7161917272786186,-0.693179543255309,0.276103684627103,1.3218912398952065,1.3762610909815587,-0.4244525853071823,3.095019112159955,0.24041761865751468,2.0981417575466796,-1.8663231215474472,-0.8858863748276312,0.9110703475702966,1.9171135293022556,-1.5434827290500317,-0.7163403616049991,-0.2799120288930551,-0.19019883646963218,1.0602624389718818,-1.4390872744295404,2.652792131679506,0.7050495757341919,-4.405890442202614,0.5003557260423015,1.0682502394600513,3.019746655903865,0.9131302264104567,-3.183574425477862,-1.463273160130018,-3.3534962619964466,0.16537586921887557,-0.5549342046250926,-2.7649591378749405,2.2027137592045065,1.1450801687858174,-0.6574986165106863,-1.9772634607229633,-0.33496714129543703,-3.3698117080758334,-1.323805283254594,-1.7282941178347118,-0.6580296934372667,1.1964966390957377,-1.509605892293679,-0.047554712612993724,1.3129799427753794,-1.6965830745705528,-0.04557921521917958,0.014784376659516535,1.362882006821875,0.6360610453999559,0.02835004261734844,-1.4195435591931045,-0.3940480239784279,-1.4206273349140008,0.9234206164334475,1.4354024406685335,-0.8661590516647224,0.866780844520125,-0.3481581991013512]                |\n",
      "|[-2.00218373971204,0.7874494784831315,-4.7755353362283905,0.1485194798608223,-6.642717933443398,-12.38331152025054,-8.235318507406955,-2.6725593059849992,7.096539983766894,-1.8343843155724402,0.6506510618848282,0.37722367230266235,1.1615066557272058,-0.7946846223524409,8.411495435462417,-5.661084595820992,0.4372742505087045,-0.9640927624965392,4.161307332781244,-3.893537590981193,5.013021784124813,5.253715436323238,0.148727327009395,-0.9917014032352662,-2.144062578206551,1.2943933161615215,-1.3042634441342738,-0.5525030454189076,-2.180609326416942,1.0844226191538222,0.9329384783656416,-0.42738936948009487,0.6513171956399383,-1.7585277754933786,0.09450529949795687,0.06718548811692979,1.045848062410381,0.9987754673501144,-1.0085597358777345,0.09790579520563626,-0.6592007724886731,0.05160845463651134,-0.22377358123196603,-0.519161912662959,1.4650910410171452,0.5396597850250029,-0.032681619562017164,1.0998607154078257,1.1008196915240982,1.2986420944528592,-2.148067761283181,-0.9625605469958829,0.737071597510448,1.8983989909369672,-0.7582132112153885,0.09237972171950824,-0.10550500728729431,1.0337196656193492,-0.16076566378600857,-1.2542575633956698,0.8902908948690299,0.9607813210747731,-2.151676203853164,1.017412983381294,2.0314780701060062,1.2698238870874963,-0.2958701329056157,0.719910966209596,-0.035702200801871004,-2.9034892820475715,-0.052500334429706995,-1.0810059883495082,-0.9072229792518212,2.1438687141356527,1.7353141727913488,0.45025943591791906,-1.6784164490925093,1.318497594855164,-2.304124523516573,-1.9180892677833434,-0.7081812534052606,-0.2691418815975648,-0.5278374452354978,-1.6059381845220233,0.316586399399792,2.0015153047814707,-1.6822537239039457,-0.46743405017114925,2.393484010371502,1.1506344041846976,0.35861787592919714,0.2988537255438165,-1.296024393771186,-2.052987702415646,-2.1146761465151434,0.3078525559990192,3.3566558698988067,-0.5845188122200092,1.9442841097091,-1.1804630484571645]               |\n",
      "|[-0.9239439247578344,9.199501174489175,-5.721145394441535,7.424059438195283,-1.3119235520596422,3.9448183560152685,-7.787807283224849,5.025170861706472,-1.8749930484558481,-11.234473244686743,-8.584806653853922,2.3003986494526703,0.7254450616430289,-1.9609747756778262,3.5108248110579585,-0.010837298214531768,-1.1604106366291271,-0.8674065517765096,2.1564277879218956,4.0147134349265725,0.9360911146010971,4.049810090503284,1.636655412787918,-1.2727851336961684,-1.4185077016754575,3.6301635992508983,-0.22389581726558974,-1.2660142234974623,-1.7329661557075744,1.2653237833715747,0.00710259255688873,-1.056866628700999,0.4211808433156156,-1.4344190116536057,0.8804238632532622,0.7164208721503771,0.8670612523409899,3.09270135323186,-1.8932538517437938,0.2505333408861789,-2.1219719281062637,0.2484560496857278,-0.46538816266008604,0.25981587128972977,1.8478822802557544,0.5524769598795088,-0.11689188007557363,-0.1655900969077152,0.1869979432595722,1.1272232525549857,-1.1868240001897095,-0.7305456442580229,1.1631126457004928,1.4796260518531454,-0.9743680976710665,0.10032524346547084,0.31015316005031257,0.7897117925027103,0.07585852771923007,-1.3624944446057838,0.22565090655834721,0.9635160837159145,-2.3694191324962537,0.3304910384699344,1.1065080402243157,1.6468934410133877,-0.5205791639417771,0.2603428520138745,-0.3005138248783254,-2.214764331589684,0.4232920738127697,-0.8131443448802333,-1.430648343710549,2.2334750607052136,0.5607294302484878,1.2659797584446175,-1.2591435926886823,-1.1775872614944685,-2.6645239480763796,-1.6097925948640548,-1.1228072931404398,1.0599230118658651,1.569580649960651,-0.753746365703532,0.40637393071220873,1.1481574440021927,-1.6029301352243064,1.2866398521027982,0.3702406599450723,0.8770295017823797,-0.605150179484925,-0.635921980901439,-1.502978924048322,-1.1515001102064575,-2.3324194335755783,0.48296190496884167,1.4957539237204227,-0.48465237004737927,1.1145013109987247,0.10189674536633567]          |\n",
      "|[15.004693783618956,-5.506034952836228,2.5473051790922336,2.356312366307877,-4.893179853167412,0.37151935627085986,-1.596468148639842,3.793503067137662,1.6806323205428344,-3.446900391383762,-3.4754818532566283,-2.1689669310215183,0.11207951477320552,-4.279434118742546,0.8949439987241538,-4.2545501555264735,2.4624807175365393,-1.18752064495053,2.5452688810552497,-2.430693855877937,1.6481319947217907,1.207294133124794,2.0026531667325265,-0.09986678135029436,1.6074188632637516,3.272362815043212,3.119260287205791,-1.2200083839565266,-0.2827795650513904,0.006512431875778177,1.3005284828253199,-2.19771775503451,-1.4011963319290017,-0.18392789497203754,0.7899618421497066,-1.0378828289448674,2.1649196216823405,1.8735198504175399,0.25421217223143644,0.31167434503364555,-0.6866871102984047,-1.478531496409811,0.0673372923780278,1.952183749990883,-0.15063832060709983,1.6024745819975044,-0.5128031991759943,1.442900547633355,-0.40678229706375807,1.3941890928821454,-0.6779875464005771,-0.3884393021960339,1.5144158808841737,0.2551982021660281,-1.0558507075820733,0.353358501585914,-0.4922277408707138,1.2490712485467557,0.1148897795820517,-1.7062385841731194,0.5811872082941506,0.9495437585531553,-2.0598319206837017,1.3074163693078302,1.5939454869653567,1.4238734924882195,-0.1964314621663326,-0.1914584104986993,-0.07956267897443292,-2.863680778141803,0.2861992946169566,-0.934375712591253,-1.9089836488571637,2.6510595637360503,1.3339505498792976,1.673716853515033,-0.855007519274414,-0.6277465319411796,-2.5952150439401507,-0.8547408515665529,-1.518019073067641,0.2833987764835068,1.0579592386027075,-1.0661565527888954,0.0567750079210704,1.1820172048762914,-2.287505067278619,0.7888583653299396,0.27031133787031647,1.1850117552521133,-0.48178403207514175,-0.0691845623403108,-1.498139561107509,-0.40909319228837926,-0.9820782958986166,1.2220747667931349,2.089852162431206,-0.17382724777137523,0.6360937042346786,0.13683684813752678]                 |\n",
      "|[1.3416151649903216,-5.974709006351775,5.846375131079656,6.054332791428283,5.16172538214381,-8.26131521203399,-10.618359763921953,4.115088902125037,-1.1691170021849826,1.9462958030167623,-3.5611329265357443,-2.0466854181805543,0.9899629066079166,-3.6613440831678123,-0.2704213297952689,-6.9199582795813335,-1.0677842822590533,-4.31534580053926,1.5816270726743642,2.1315949056322894,-0.8231308364701695,4.827997900070956,1.0668934528466754,-1.4177095932389678,-2.359180222797618,1.9472333304833482,1.0168579296996614,-1.3943828851272664,-0.584710163799025,1.1737623042490166,-0.6934405016407272,-2.4326085920786062,-0.8322572887636248,-3.6584524262451854,1.9549496167127784,-0.3149625646900145,-0.7495530559077274,1.6035426513383055,-0.7755693334528238,1.9587067770101774,-1.5031329778347222,0.5551877221088416,0.25884347808637337,1.6784713074279387,1.5369736000773075,0.8782855839195881,0.3850224453241714,0.8969497411927428,-1.0779225557651857,0.6030024430464818,-0.9687172818545958,-1.4623336725133744,0.8136600309762465,1.5747659474691098,-0.6127387231385281,0.6027906524540951,0.34189141680071133,0.6666833808647723,0.22592011446382282,-1.1189637016605758,0.2715367494427982,1.4182951678544236,-2.7481315311670493,0.7070925307086111,1.5225952306774968,1.5283822817161483,-1.2637586019037348,0.16657612429370733,0.008235076154722926,-2.8262692098367053,0.8812286646803248,-0.9184651641439463,-1.5361969603495562,2.580698460217181,1.380298850732827,1.7328692477128222,-1.117845703654921,0.08460065982380935,-3.17296731985253,-1.0039816704930113,-1.8019742175691826,0.012915157761193043,0.8832885595396797,-1.5516265852560258,0.16447537987324745,1.5177685470554185,-1.7207342848469092,0.3987041830832872,0.4009812386692521,1.1598853680202925,-0.4137594597602343,-0.3628628206998174,-1.531943236761142,-0.7826421335756564,-1.24918477035746,0.6568326453011842,1.5772812728332193,-0.04899123827533603,1.1832748250898115,0.7563741130956632]                 |\n",
      "|[-0.7683446680738848,-5.267183767966958,6.359048304781262,3.146845603464945,1.4795545597964455,-1.8285383548572915,-1.9390256810046458,0.445390060022448,-1.0754204118758437,-3.02490463313546,0.4275304735582097,1.60836180537784,-0.022566106945449797,-0.11637362108518555,0.5891238563448777,-1.6143328601757747,0.630342277932069,3.169722143841442,0.8315923369803576,1.1833848602152552,1.5618729772829312,4.988164353445208,2.2147939101333027,-0.8723398663560085,-0.6876105241379565,1.78083970702114,0.20417068883665274,1.183597660192047,-1.816756165727487,-0.11322139948748187,-0.8240743972824677,-0.2579182081054084,-2.2194336371044945,-0.0337023881449795,0.888541616523483,0.8138142044046728,1.021539015713374,0.3570462413421079,-0.7605379878243902,0.9827109759228317,0.335198560896258,-0.13649072122490982,-0.19315503215715069,0.7605100923205521,0.3564711794324458,0.5928433945848819,0.20415605875241538,1.0702142360143938,-0.02671760767596716,1.558408474689375,-2.2364247266168342,-1.0497851762011323,0.7942983366465162,0.1092362214325944,0.6710979976447737,0.559250867196057,0.6376174104101137,-0.7369081388532905,-1.2863622608065188,-1.0801674056629718,0.08276541406989621,-0.6983749048081267,-3.170912634612335,-0.01805378554986568,1.6123306386805694,1.1358726572671494,-2.9048363479029966,-1.2616879224859123,0.36608747589237095,-0.758838771678705,-0.5799543092363203,-1.7558746085123647,-1.3074758697420075,2.7551050373612207,1.257242631136558,0.889044053188709,-1.9132341791219512,-0.4584279997652343,-3.710392531123627,-0.1607649652728866,-1.6864612585872256,0.001976274817925013,0.5688729381299512,-1.1420960187147577,0.6454729047792706,1.7530872258892112,-1.6335896570534028,0.290378973361747,0.0977081051935486,1.4230083664018043,-0.1265400572502873,-0.3427177257930753,-1.3552746668769762,-0.8459615397466785,-0.9769814612795719,0.4094701403017887,1.3790166972654396,-0.1607789429570797,0.9138411146444736,-0.2662420070744863]                |\n",
      "|[-0.7856733265203092,-5.4991043951852605,6.2420052917709965,3.1555024227785027,1.3151912090757498,-1.8267666466461883,-2.0698911155190434,0.5819170955144811,-1.2163387434273232,-3.125120746675464,0.42291350553585844,1.5975117491083823,0.3765941223393774,0.044208021408069335,0.4182435479675743,-1.4913220420947562,0.3973024037033507,3.4058033472341678,0.8896928740915171,1.0463674483341907,1.3671338907458022,5.125335746903382,2.24083641641873,-0.6980499990393698,-0.673110810784194,1.763926099910337,0.32538836314108427,1.5448048236839125,-1.6503398203015847,-0.13471392821273495,-0.6069654249515971,-0.13805372736384264,-2.3357837179830865,-0.09238197788441359,0.8199499899754531,1.3088810173796355,1.1250199577849609,0.40375902157717297,-0.6654389192557829,1.1281848341611758,0.4499595259337511,-0.13811376790420632,-0.37566443031893976,0.5667260889796268,0.26806175971437685,0.6470055738986211,0.3398006593774316,0.9678580835229631,0.02310091615182008,1.6086018061142406,-2.535446855747918,-1.0144662428614253,0.9417850830859318,0.11364467838920231,1.0266708249730505,0.39055049503219597,0.9561885819892921,-0.5863395856119277,-1.4980695512170188,-1.191026825271637,0.3797108562017427,-0.9315854789579794,-3.244812795999532,-0.014312479730947516,2.131074717882446,0.9376756805212144,-3.291022747425524,-1.1000202979279023,0.5000137395992597,-0.7718761252999471,-0.4277654054297351,-1.8079873947680662,-1.4667559551815068,2.7972854350299854,1.364740471203637,0.9100059923830126,-1.6189753556640454,-0.2229809318969147,-3.531068209075036,-0.31081003563054727,-1.7863423169358068,-0.11246381692159953,0.5807596433307499,-0.9837698693505265,0.725826746805369,1.7186446234513637,-1.6577335015290007,0.47888015432853637,0.12537057381937472,1.4285336636894774,-0.11225547772265691,-0.5054359382685452,-1.32280835831943,-0.6818564306636399,-1.1068973308989745,0.4293183640854284,1.2855398061858672,-0.11659376700995132,0.995072589523598,-0.2898017516936613] |\n",
      "|[1.2648730218683915,-5.857663524540592,4.311820200297386,6.1232923954673035,3.2099805271162456,-3.3334734622787408,-9.674971468483164,4.244432022500326,0.7266066700899986,-2.460721236324969,-2.457077875959615,-4.832160057818833,1.154759477636809,0.622942641127583,1.0116549132490356,-4.809786891773568,-0.5174648843885488,1.0982925488674546,0.7345965683060156,-0.48105233194692154,0.789571143701568,3.5581888636326355,2.1644159929522777,0.19640438605400268,-0.6515194097992846,1.3791324778889982,1.5099283980804006,1.201206032770873,-0.9970486816472416,-0.3687484198261409,-0.9553931686440253,-2.1285240148733413,2.075470551664921,-1.2997719694223209,1.5918730512397847,2.0053126904604572,-0.14889312787377196,1.7562213814999035,-1.810882357189031,0.1151431797899536,0.2632935297216076,0.730965761984454,0.9857278821789779,-1.0683528710880597,-1.4455889907333437,1.5543160228075872,0.2036215759714459,0.35003960788599436,2.3657569144717927,0.9212060109275454,-3.6825072121582005,-2.2154675340985905,1.8020660973724056,2.749442840255024,0.2983016443287474,-1.214041989942624,0.544438350633229,2.4642930034066044,0.14316362301190963,-0.9323388230925236,1.1750753104347411,1.0471710098383114,-0.824511851911673,0.6974337425943998,1.0385597596943978,2.053206428732041,0.26155648035936413,0.47145560204225445,-0.36188829778182474,-2.1995317380067174,-0.5940805346042398,-0.6985970064917453,-2.1617558837081856,1.8114796622834255,0.6392072158358589,1.2475693728321733,-2.6654527100957752,-0.2675373633846709,-3.352682802241333,0.16237622052136091,-1.7507836695722077,0.7419695766451719,0.7855174266133792,-2.0254788638196226,-0.013326616003961044,0.6125600207725936,-2.182001910491728,-0.4480010552041407,0.15632686244075103,-0.08592312367110547,0.4720150973187693,-0.5549853591149785,-0.9669770002510809,-1.3187942998052193,-0.8982436803140151,0.5012690652454108,0.2214042881023993,-0.35319592345612955,1.0995441249195779,-1.2633002696284474]                 |\n",
      "|[-2.3707503198028888,-2.344224318805129,-3.2724721032237793,0.2916987581281785,0.3497819409003935,-4.480133776959113,-0.5367519681081466,1.7899081348409565,2.227468481947904,0.1132370555043312,-0.3223963778726209,-0.2564483440520388,4.004030791837688,-5.896720495028553,3.435690510685136,-0.47361178179131763,-0.4391016257923723,6.408353672057635,-0.31489489664746256,1.9218747686123847,-2.1393099278095695,-6.353327300733988,4.210067948657535,2.4593992672699576,-2.1905941444617736,-2.5855376033730018,-2.5270330009520174,-0.9894171670672255,-2.066868499678482,1.797750365408996,-2.8190780281184296,-2.4280763139182784,2.038917194429226,-2.669581664208539,-0.42112262332752187,-0.7502731974468639,-2.3353975580710333,2.3696538942044594,0.2717084103069013,0.6587113304277923,-1.0824346721776656,0.6022171481927092,0.6954003690414574,0.6977106116071783,1.8382300362929525,1.595486245287019,-0.22389981543239917,0.2993363161841158,0.8807710141170697,0.9868277389332307,-2.4600477253224997,-0.9758594131433086,0.9026098454062671,1.1389067694333403,-1.653851484213184,0.7341752685146393,0.033253906674459606,1.2423674903812274,0.09119742205732707,-1.527724970325291,0.15280342446493908,1.2410459388571358,-2.26864235032133,0.9312591766595597,1.5461575858472232,1.5357155920366101,-0.6821133918590112,0.695659359730394,-0.3072827108885148,-2.777822238066987,0.41741308050297043,-1.063173081306316,-1.3248517338575878,2.4501086527275313,1.1333317930152262,1.3744783198674557,-1.4244896257860986,-0.4629565860097749,-3.522982213753367,-0.7149226686605301,-1.184700858329519,-0.19260779205585773,0.5485655670369399,-1.2313373090987167,0.024013872184727284,1.1961427556856115,-2.10262040745218,0.5642851893005202,0.10065763252594764,1.0922312213810315,-0.12540838273134547,-0.3334480782393585,-1.5016914205449259,-0.14788974053965392,-0.9070982955318627,0.5232545892590037,1.640109538019194,-0.035629243176389665,0.985594137417289,0.05346025372362353]            |\n",
      "|[9.701399670017473,-9.565499939059766,1.6503137990973857,0.28979749193253534,1.5396567394318221,-4.545779508892863,-5.739432261082305,7.529591278693326,0.5881742927118843,-5.0169836858318035,-1.7140909730902743,-2.7014540955172017,4.042867309090199,-2.301493272015214,2.6951710707661087,-5.3682741856176355,1.352755554561469,-0.32141055764253484,1.5439031867638173,1.6611962457077345,1.2842034997769454,3.2070831541148674,1.8905894851254832,3.908623241966978,-2.7493126970527992,3.624555065608873,2.4003622898667833,-0.42211239895740876,-2.958890752883903,-0.2709347064058908,-1.2438279035921187,1.7106692531730934,1.2321444688796952,-2.0948559560480535,-0.3486469889232776,2.7119203794449818,1.3974379537604082,0.5328627468284736,-1.3776201802079073,-0.7043143123588711,-0.7902480035029137,-0.5695891260730046,0.4724236629540686,1.1479737856091652,1.9744627051349213,-0.10700715953117555,-0.5369844581959219,0.633490148118375,0.7577573395276398,0.288310132612914,-0.44420233160609235,-1.1814339810810943,1.8253484240725555,1.3722521503579972,-1.094857548621122,0.37022287259381487,0.1927641159805201,0.3291895566396665,-0.06726269900204959,-0.6678547270306011,0.3693319375026691,1.0878669203896805,-1.8010541761950374,-0.0670046184775677,1.0650591367320528,1.0527483164767724,-0.8485778430575233,0.3369939929297626,0.06422853117932703,-2.257400031061342,0.22341496930080132,-0.7857728406481528,-1.6517130803043647,2.1727177962543953,1.3756149880225932,1.6637136858579256,-1.32848017385945,-0.1830760906473592,-3.1708454152537255,-0.5413056387081672,-1.5165906651954992,0.14174278180454317,0.8126783359217387,-1.3714704371753188,0.44768026837997127,1.0784285228808594,-1.7936445826844265,0.5174663068005184,0.19782740653646136,1.00523654956654,-0.03978901084114749,-0.37532538686885253,-1.1858643485291163,-0.5648556036756772,-1.2462514054487648,0.6940814423187462,1.3052027147597183,-0.3250311709004489,1.0523415440376012,0.09353919222850987]           |\n",
      "|[7.717341789827013,3.718699537984651,4.522397772744571,-8.768951272431893,-6.688936156730661,-6.95097614454238,-11.583396588727497,2.756731145608251,-3.389194009053883,-1.5803172954698572,3.779794635406768,5.364439033146648,6.6530133692236,0.30844855022862827,1.4786202750832171,-3.037266240004599,2.0040557960551344,-2.146160797378586,1.5304670926827895,5.583238477290616,-1.7576166565131606,5.03308165007887,2.8500495765455547,2.2388456793149487,3.313312572787212,3.2704854538801302,-0.4403707248193164,-0.8193560848963615,-0.0618684179456305,-0.27096990186432557,-0.6597255226796159,-0.578494544200005,0.4450064390877851,-2.0779969785591494,0.36731652281483834,-1.5408649663748581,1.5075298255368044,2.861705014022289,-2.220338754049632,-0.29650571321369645,-1.9734024364007121,0.3421225982074064,1.059626526929709,-0.34146032552518474,-0.2081703577213274,0.6953201463432642,-0.2670317532319278,2.394252872459611,-0.9629367798662658,1.265152007427793,-1.7998956258983096,-0.9920115559833378,1.6990516574278633,1.5621429751454976,-0.8443809679616412,-0.10183944872212516,0.41779244839282625,1.4875536741529605,0.2471250976411259,-1.1686974931875478,0.09337196675746734,1.3163723037306279,-1.8900478851309102,0.7654169992463535,1.3190587283298978,1.132873586144031,-0.5131664760506675,0.4820625740029746,-0.4722756089778032,-2.297147378843517,-0.006046929321514217,-1.1396772504978134,-1.813877039308516,1.971974891807239,1.3218226041037615,1.6562190844084335,-1.7092208142064054,-0.5745538471124021,-3.2399778742781744,-0.8081091803679794,-1.4802280667675556,-0.4432038842757644,1.115605517888397,-1.7882322374187578,0.5439162263747641,1.225787938045195,-1.855365621245481,0.06982870298743021,0.4567987211136492,1.3692961325383948,-0.5459733567092359,-0.34938799752650473,-1.4599807450994648,-0.003424008519877888,-1.0139438553109184,0.8260502332204538,1.8374171566121924,-0.19703848581985292,0.8124126356523871,-0.3646712085658694]                    |\n",
      "+----------------------------------------------------------------------------------------------------------------------------------------------------------------------------------------------------------------------------------------------------------------------------------------------------------------------------------------------------------------------------------------------------------------------------------------------------------------------------------------------------------------------------------------------------------------------------------------------------------------------------------------------------------------------------------------------------------------------------------------------------------------------------------------------------------------------------------------------------------------------------------------------------------------------------------------------------------------------------------------------------------------------------------------------------------------------------------------------------------------------------------------------------------------------------------------------------------------------------------------------------------------------------------------------------------------------------------------------------------------------------------------------------------------------------------------------------------------------------------------------------------------------------------------------------------------------------------------------------------------------------------------------------------------------------------------------------------------------------------------------------------------------------------------------------------------------------------------------------------------------------------------------------------------------------------------------------------------------------------------------------------------------------------+\n",
      "only showing top 20 rows\n",
      "\n"
     ]
    },
    {
     "name": "stderr",
     "output_type": "stream",
     "text": [
      "                                                                                \r"
     ]
    }
   ],
   "source": [
    "from pyspark.ml.feature import PCA\n",
    "from pyspark.ml.linalg import Vectors\n",
    "\n",
    "pca = PCA(k=100, inputCol=\"features\", outputCol=\"pcaFeatures\")\n",
    "model = pca.fit(features_df)\n",
    "\n",
    "result = model.transform(features_df).select(\"pcaFeatures\")\n",
    "result.show(truncate=False)"
   ]
  },
  {
   "cell_type": "code",
   "execution_count": 126,
   "metadata": {},
   "outputs": [
    {
     "data": {
      "text/plain": [
       "DenseVector([0.1468, 0.0969, 0.0621, 0.0516, 0.043, 0.0412, 0.0369, 0.0333, 0.0295, 0.0245, 0.0233, 0.0203, 0.0191, 0.0171, 0.0163, 0.0152, 0.0147, 0.0134, 0.0131, 0.0121, 0.0113, 0.0105, 0.0103, 0.0096, 0.0093, 0.0084, 0.0081, 0.0076, 0.0074, 0.0072, 0.0069, 0.0064, 0.0062, 0.0058, 0.0057, 0.0056, 0.0053, 0.0049, 0.0046, 0.0044, 0.0043, 0.0042, 0.0041, 0.0039, 0.0037, 0.0035, 0.0034, 0.0032, 0.0031, 0.0029, 0.0029, 0.0028, 0.0026, 0.0025, 0.0023, 0.0022, 0.002, 0.0019, 0.0018, 0.0018, 0.0017, 0.0017, 0.0016, 0.0016, 0.0015, 0.0015, 0.0013, 0.0013, 0.0012, 0.0012, 0.0011, 0.0011, 0.001, 0.001, 0.0009, 0.0009, 0.0009, 0.0008, 0.0008, 0.0008, 0.0007, 0.0007, 0.0007, 0.0006, 0.0006, 0.0006, 0.0006, 0.0006, 0.0005, 0.0005, 0.0005, 0.0005, 0.0005, 0.0005, 0.0005, 0.0005, 0.0005, 0.0004, 0.0004, 0.0004])"
      ]
     },
     "execution_count": 126,
     "metadata": {},
     "output_type": "execute_result"
    }
   ],
   "source": [
    "model.explainedVariance"
   ]
  },
  {
   "cell_type": "code",
   "execution_count": 127,
   "metadata": {},
   "outputs": [
    {
     "data": {
      "text/plain": [
       "<BarContainer object of 100 artists>"
      ]
     },
     "execution_count": 127,
     "metadata": {},
     "output_type": "execute_result"
    },
    {
     "data": {
      "image/png": "[encoded data removed]",
      "text/plain": [
       "<Figure size 640x480 with 1 Axes>"
      ]
     },
     "metadata": {},
     "output_type": "display_data"
    }
   ],
   "source": [
    "import matplotlib.pyplot as plt\n",
    "plt.bar(x=range(100), height=model.explainedVariance)"
   ]
  },
  {
   "cell_type": "code",
   "execution_count": 128,
   "metadata": {},
   "outputs": [
    {
     "data": {
      "text/plain": [
       "array([0.1468153 , 0.24372945, 0.30586305, 0.357454  , 0.40047843,\n",
       "       0.44170816, 0.4786245 , 0.51190812, 0.54144511, 0.56598406,\n",
       "       0.5893289 , 0.60965438, 0.62874515, 0.64582407, 0.66214815,\n",
       "       0.67732954, 0.69203642, 0.70543947, 0.7185021 , 0.73056605,\n",
       "       0.74189579, 0.7524079 , 0.76267648, 0.77225999, 0.7815438 ,\n",
       "       0.78992854, 0.79803339, 0.80568287, 0.81308893, 0.8202753 ,\n",
       "       0.82716301, 0.83360294, 0.83983382, 0.84563575, 0.85138043,\n",
       "       0.85695304, 0.86223241, 0.86709865, 0.87173066, 0.87614906,\n",
       "       0.8804042 , 0.88455717, 0.88868312, 0.89257098, 0.8962656 ,\n",
       "       0.89979882, 0.90319528, 0.90642671, 0.90952191, 0.91246454,\n",
       "       0.91531811, 0.91809844, 0.92071413, 0.92316584, 0.92546758,\n",
       "       0.92768296, 0.92969908, 0.93162611, 0.93345925, 0.93524052,\n",
       "       0.93693874, 0.93859715, 0.94019989, 0.94179115, 0.94332535,\n",
       "       0.94477556, 0.94606821, 0.94734257, 0.94858844, 0.94976046,\n",
       "       0.95087169, 0.95196062, 0.95298827, 0.95398285, 0.95492785,\n",
       "       0.95583629, 0.95670745, 0.95755026, 0.95834436, 0.95910279,\n",
       "       0.95981108, 0.96049741, 0.96116116, 0.96179892, 0.96242364,\n",
       "       0.96304202, 0.96363421, 0.96419995, 0.96474763, 0.96529105,\n",
       "       0.96582051, 0.96633411, 0.96684623, 0.967336  , 0.9678018 ,\n",
       "       0.96825618, 0.96870969, 0.96915508, 0.96959524, 0.97002132])"
      ]
     },
     "execution_count": 128,
     "metadata": {},
     "output_type": "execute_result"
    }
   ],
   "source": [
    "cumvar=np.cumsum(model.explainedVariance)\n",
    "cumvar"
   ]
  },
  {
   "cell_type": "code",
   "execution_count": 129,
   "metadata": {},
   "outputs": [
    {
     "data": {
      "text/plain": [
       "[<matplotlib.lines.Line2D at 0x7fae7f317ca0>]"
      ]
     },
     "execution_count": 129,
     "metadata": {},
     "output_type": "execute_result"
    },
    {
     "data": {
      "image/png": "[encoded data removed]",
      "text/plain": [
       "<Figure size 640x480 with 1 Axes>"
      ]
     },
     "metadata": {},
     "output_type": "display_data"
    }
   ],
   "source": [
    "plt.plot(range(100),cumvar)"
   ]
  }
 ],
 "metadata": {
  "kernelspec": {
   "display_name": "Python 3",
   "language": "python",
   "name": "python3"
  },
  "language_info": {
   "codemirror_mode": {
    "name": "ipython",
    "version": 3
   },
   "file_extension": ".py",
   "mimetype": "text/x-python",
   "name": "python",
   "nbconvert_exporter": "python",
   "pygments_lexer": "ipython3",
   "version": "3.10.6"
  },
  "orig_nbformat": 4,
  "vscode": {
   "interpreter": {
    "hash": "916dbcbb3f70747c44a77c7bcd40155683ae19c65e1c03b4aa3499c5328201f1"
   }
  }
 },
 "nbformat": 4,
 "nbformat_minor": 2
}
